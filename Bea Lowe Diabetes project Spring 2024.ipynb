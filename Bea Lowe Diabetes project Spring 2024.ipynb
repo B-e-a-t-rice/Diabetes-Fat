{
 "cells": [
  {
   "cell_type": "code",
   "execution_count": 17,
   "id": "bb5ea65f-4a4e-439d-b904-2c05f680e6ee",
   "metadata": {},
   "outputs": [],
   "source": [
    "import pandas as pd\n",
    "import matplotlib.pyplot as plt\n",
    "import seaborn as sns\n",
    "import numpy as np\n",
    "from scipy import stats \n",
    "\n",
    "%matplotlib inline"
   ]
  },
  {
   "cell_type": "code",
   "execution_count": 2,
   "id": "840659fc-05b8-4f7b-8c9e-bd573e023241",
   "metadata": {},
   "outputs": [],
   "source": [
    "df = pd.read_sas('P_DR1IFF.XPT')"
   ]
  },
  {
   "cell_type": "code",
   "execution_count": 3,
   "id": "5142d4e0-407c-4853-bc25-926e0e24a10a",
   "metadata": {},
   "outputs": [
    {
     "data": {
      "text/html": [
       "<div>\n",
       "<style scoped>\n",
       "    .dataframe tbody tr th:only-of-type {\n",
       "        vertical-align: middle;\n",
       "    }\n",
       "\n",
       "    .dataframe tbody tr th {\n",
       "        vertical-align: top;\n",
       "    }\n",
       "\n",
       "    .dataframe thead th {\n",
       "        text-align: right;\n",
       "    }\n",
       "</style>\n",
       "<table border=\"1\" class=\"dataframe\">\n",
       "  <thead>\n",
       "    <tr style=\"text-align: right;\">\n",
       "      <th></th>\n",
       "      <th>SEQN</th>\n",
       "      <th>DR1ISUGR</th>\n",
       "      <th>DR1IPROT</th>\n",
       "      <th>DR1ICARB</th>\n",
       "      <th>DR1ITFAT</th>\n",
       "      <th>DR1IMFAT</th>\n",
       "      <th>DR1IPFAT</th>\n",
       "      <th>DR1ISFAT</th>\n",
       "    </tr>\n",
       "  </thead>\n",
       "  <tbody>\n",
       "    <tr>\n",
       "      <th>0</th>\n",
       "      <td>109263.0</td>\n",
       "      <td>2.130000e+00</td>\n",
       "      <td>1.211000e+01</td>\n",
       "      <td>5.070000e+00</td>\n",
       "      <td>4.950000e+00</td>\n",
       "      <td>2.105000e+00</td>\n",
       "      <td>9.480000e-01</td>\n",
       "      <td>1.472000e+00</td>\n",
       "    </tr>\n",
       "    <tr>\n",
       "      <th>1</th>\n",
       "      <td>109263.0</td>\n",
       "      <td>1.040000e+01</td>\n",
       "      <td>2.200000e+00</td>\n",
       "      <td>1.203000e+01</td>\n",
       "      <td>5.090000e+00</td>\n",
       "      <td>1.255000e+00</td>\n",
       "      <td>5.340000e-01</td>\n",
       "      <td>2.659000e+00</td>\n",
       "    </tr>\n",
       "    <tr>\n",
       "      <th>2</th>\n",
       "      <td>109263.0</td>\n",
       "      <td>8.520000e+00</td>\n",
       "      <td>2.711000e+01</td>\n",
       "      <td>7.933000e+01</td>\n",
       "      <td>2.306000e+01</td>\n",
       "      <td>6.207000e+00</td>\n",
       "      <td>4.001000e+00</td>\n",
       "      <td>1.062700e+01</td>\n",
       "    </tr>\n",
       "    <tr>\n",
       "      <th>3</th>\n",
       "      <td>109263.0</td>\n",
       "      <td>2.117000e+01</td>\n",
       "      <td>1.900000e-01</td>\n",
       "      <td>2.371000e+01</td>\n",
       "      <td>5.200000e-01</td>\n",
       "      <td>1.300000e-02</td>\n",
       "      <td>8.200000e-02</td>\n",
       "      <td>4.600000e-02</td>\n",
       "    </tr>\n",
       "    <tr>\n",
       "      <th>4</th>\n",
       "      <td>109263.0</td>\n",
       "      <td>1.302000e+01</td>\n",
       "      <td>3.550000e+00</td>\n",
       "      <td>1.383000e+01</td>\n",
       "      <td>5.920000e+00</td>\n",
       "      <td>2.401000e+00</td>\n",
       "      <td>1.324000e+00</td>\n",
       "      <td>1.557000e+00</td>\n",
       "    </tr>\n",
       "    <tr>\n",
       "      <th>...</th>\n",
       "      <td>...</td>\n",
       "      <td>...</td>\n",
       "      <td>...</td>\n",
       "      <td>...</td>\n",
       "      <td>...</td>\n",
       "      <td>...</td>\n",
       "      <td>...</td>\n",
       "      <td>...</td>\n",
       "    </tr>\n",
       "    <tr>\n",
       "      <th>183905</th>\n",
       "      <td>124821.0</td>\n",
       "      <td>6.980000e+00</td>\n",
       "      <td>5.397605e-79</td>\n",
       "      <td>6.980000e+00</td>\n",
       "      <td>5.397605e-79</td>\n",
       "      <td>5.397605e-79</td>\n",
       "      <td>5.397605e-79</td>\n",
       "      <td>5.397605e-79</td>\n",
       "    </tr>\n",
       "    <tr>\n",
       "      <th>183906</th>\n",
       "      <td>124821.0</td>\n",
       "      <td>1.270000e+00</td>\n",
       "      <td>3.070000e+00</td>\n",
       "      <td>1.671000e+01</td>\n",
       "      <td>6.400000e+00</td>\n",
       "      <td>1.616000e+00</td>\n",
       "      <td>2.838000e+00</td>\n",
       "      <td>1.487000e+00</td>\n",
       "    </tr>\n",
       "    <tr>\n",
       "      <th>183907</th>\n",
       "      <td>124821.0</td>\n",
       "      <td>3.900000e-01</td>\n",
       "      <td>4.960000e+00</td>\n",
       "      <td>2.068000e+01</td>\n",
       "      <td>2.200000e+00</td>\n",
       "      <td>4.110000e-01</td>\n",
       "      <td>7.790000e-01</td>\n",
       "      <td>3.690000e-01</td>\n",
       "    </tr>\n",
       "    <tr>\n",
       "      <th>183908</th>\n",
       "      <td>124821.0</td>\n",
       "      <td>5.397605e-79</td>\n",
       "      <td>5.397605e-79</td>\n",
       "      <td>5.397605e-79</td>\n",
       "      <td>5.397605e-79</td>\n",
       "      <td>5.397605e-79</td>\n",
       "      <td>5.397605e-79</td>\n",
       "      <td>5.397605e-79</td>\n",
       "    </tr>\n",
       "    <tr>\n",
       "      <th>183909</th>\n",
       "      <td>124821.0</td>\n",
       "      <td>1.600000e-01</td>\n",
       "      <td>8.547000e+01</td>\n",
       "      <td>4.400000e-01</td>\n",
       "      <td>5.066000e+01</td>\n",
       "      <td>2.168800e+01</td>\n",
       "      <td>1.341200e+01</td>\n",
       "      <td>9.722000e+00</td>\n",
       "    </tr>\n",
       "  </tbody>\n",
       "</table>\n",
       "<p>183910 rows × 8 columns</p>\n",
       "</div>"
      ],
      "text/plain": [
       "            SEQN      DR1ISUGR      DR1IPROT      DR1ICARB      DR1ITFAT  \\\n",
       "0       109263.0  2.130000e+00  1.211000e+01  5.070000e+00  4.950000e+00   \n",
       "1       109263.0  1.040000e+01  2.200000e+00  1.203000e+01  5.090000e+00   \n",
       "2       109263.0  8.520000e+00  2.711000e+01  7.933000e+01  2.306000e+01   \n",
       "3       109263.0  2.117000e+01  1.900000e-01  2.371000e+01  5.200000e-01   \n",
       "4       109263.0  1.302000e+01  3.550000e+00  1.383000e+01  5.920000e+00   \n",
       "...          ...           ...           ...           ...           ...   \n",
       "183905  124821.0  6.980000e+00  5.397605e-79  6.980000e+00  5.397605e-79   \n",
       "183906  124821.0  1.270000e+00  3.070000e+00  1.671000e+01  6.400000e+00   \n",
       "183907  124821.0  3.900000e-01  4.960000e+00  2.068000e+01  2.200000e+00   \n",
       "183908  124821.0  5.397605e-79  5.397605e-79  5.397605e-79  5.397605e-79   \n",
       "183909  124821.0  1.600000e-01  8.547000e+01  4.400000e-01  5.066000e+01   \n",
       "\n",
       "            DR1IMFAT      DR1IPFAT      DR1ISFAT  \n",
       "0       2.105000e+00  9.480000e-01  1.472000e+00  \n",
       "1       1.255000e+00  5.340000e-01  2.659000e+00  \n",
       "2       6.207000e+00  4.001000e+00  1.062700e+01  \n",
       "3       1.300000e-02  8.200000e-02  4.600000e-02  \n",
       "4       2.401000e+00  1.324000e+00  1.557000e+00  \n",
       "...              ...           ...           ...  \n",
       "183905  5.397605e-79  5.397605e-79  5.397605e-79  \n",
       "183906  1.616000e+00  2.838000e+00  1.487000e+00  \n",
       "183907  4.110000e-01  7.790000e-01  3.690000e-01  \n",
       "183908  5.397605e-79  5.397605e-79  5.397605e-79  \n",
       "183909  2.168800e+01  1.341200e+01  9.722000e+00  \n",
       "\n",
       "[183910 rows x 8 columns]"
      ]
     },
     "execution_count": 3,
     "metadata": {},
     "output_type": "execute_result"
    }
   ],
   "source": [
    "fat_df = df[['SEQN','DR1ISUGR','DR1IPROT','DR1ICARB','DR1ITFAT','DR1IMFAT','DR1IPFAT','DR1ISFAT']]\n",
    "fat_df"
   ]
  },
  {
   "cell_type": "code",
   "execution_count": 4,
   "id": "c2502320",
   "metadata": {},
   "outputs": [
    {
     "data": {
      "text/html": [
       "<div>\n",
       "<style scoped>\n",
       "    .dataframe tbody tr th:only-of-type {\n",
       "        vertical-align: middle;\n",
       "    }\n",
       "\n",
       "    .dataframe tbody tr th {\n",
       "        vertical-align: top;\n",
       "    }\n",
       "\n",
       "    .dataframe thead th {\n",
       "        text-align: right;\n",
       "    }\n",
       "</style>\n",
       "<table border=\"1\" class=\"dataframe\">\n",
       "  <thead>\n",
       "    <tr style=\"text-align: right;\">\n",
       "      <th></th>\n",
       "      <th>SEQN</th>\n",
       "      <th>total_sugars</th>\n",
       "      <th>total_protein</th>\n",
       "      <th>total_carbs</th>\n",
       "      <th>total_fat</th>\n",
       "      <th>monounsaturated_fat</th>\n",
       "      <th>polyunsaturated_fat</th>\n",
       "      <th>saturated_fat</th>\n",
       "    </tr>\n",
       "  </thead>\n",
       "  <tbody>\n",
       "    <tr>\n",
       "      <th>0</th>\n",
       "      <td>109263.0</td>\n",
       "      <td>2.13</td>\n",
       "      <td>12.11</td>\n",
       "      <td>5.07</td>\n",
       "      <td>4.95</td>\n",
       "      <td>2.105</td>\n",
       "      <td>0.948</td>\n",
       "      <td>1.472</td>\n",
       "    </tr>\n",
       "    <tr>\n",
       "      <th>1</th>\n",
       "      <td>109263.0</td>\n",
       "      <td>10.40</td>\n",
       "      <td>2.20</td>\n",
       "      <td>12.03</td>\n",
       "      <td>5.09</td>\n",
       "      <td>1.255</td>\n",
       "      <td>0.534</td>\n",
       "      <td>2.659</td>\n",
       "    </tr>\n",
       "    <tr>\n",
       "      <th>2</th>\n",
       "      <td>109263.0</td>\n",
       "      <td>8.52</td>\n",
       "      <td>27.11</td>\n",
       "      <td>79.33</td>\n",
       "      <td>23.06</td>\n",
       "      <td>6.207</td>\n",
       "      <td>4.001</td>\n",
       "      <td>10.627</td>\n",
       "    </tr>\n",
       "    <tr>\n",
       "      <th>3</th>\n",
       "      <td>109263.0</td>\n",
       "      <td>21.17</td>\n",
       "      <td>0.19</td>\n",
       "      <td>23.71</td>\n",
       "      <td>0.52</td>\n",
       "      <td>0.013</td>\n",
       "      <td>0.082</td>\n",
       "      <td>0.046</td>\n",
       "    </tr>\n",
       "    <tr>\n",
       "      <th>4</th>\n",
       "      <td>109263.0</td>\n",
       "      <td>13.02</td>\n",
       "      <td>3.55</td>\n",
       "      <td>13.83</td>\n",
       "      <td>5.92</td>\n",
       "      <td>2.401</td>\n",
       "      <td>1.324</td>\n",
       "      <td>1.557</td>\n",
       "    </tr>\n",
       "  </tbody>\n",
       "</table>\n",
       "</div>"
      ],
      "text/plain": [
       "       SEQN  total_sugars  total_protein  total_carbs  total_fat  \\\n",
       "0  109263.0          2.13          12.11         5.07       4.95   \n",
       "1  109263.0         10.40           2.20        12.03       5.09   \n",
       "2  109263.0          8.52          27.11        79.33      23.06   \n",
       "3  109263.0         21.17           0.19        23.71       0.52   \n",
       "4  109263.0         13.02           3.55        13.83       5.92   \n",
       "\n",
       "   monounsaturated_fat  polyunsaturated_fat  saturated_fat  \n",
       "0                2.105                0.948          1.472  \n",
       "1                1.255                0.534          2.659  \n",
       "2                6.207                4.001         10.627  \n",
       "3                0.013                0.082          0.046  \n",
       "4                2.401                1.324          1.557  "
      ]
     },
     "execution_count": 4,
     "metadata": {},
     "output_type": "execute_result"
    }
   ],
   "source": [
    "# Each of these amounts is measured in grams and are calculated from the food intake of each participant over a 24 hour period \n",
    "fat_df.columns = ['SEQN','total_sugars','total_protein', 'total_carbs','total_fat','monounsaturated_fat','polyunsaturated_fat','saturated_fat']\n",
    "\n",
    "fat_df.head()"
   ]
  },
  {
   "cell_type": "code",
   "execution_count": 5,
   "id": "c8b675f9",
   "metadata": {},
   "outputs": [],
   "source": [
    "fat_df = fat_df.groupby('SEQN').sum().reset_index()\n",
    "fat_df['SEQN'] = fat_df['SEQN'].astype(int)"
   ]
  },
  {
   "cell_type": "code",
   "execution_count": 6,
   "id": "d8a60c01",
   "metadata": {},
   "outputs": [
    {
     "data": {
      "text/html": [
       "<div>\n",
       "<style scoped>\n",
       "    .dataframe tbody tr th:only-of-type {\n",
       "        vertical-align: middle;\n",
       "    }\n",
       "\n",
       "    .dataframe tbody tr th {\n",
       "        vertical-align: top;\n",
       "    }\n",
       "\n",
       "    .dataframe thead th {\n",
       "        text-align: right;\n",
       "    }\n",
       "</style>\n",
       "<table border=\"1\" class=\"dataframe\">\n",
       "  <thead>\n",
       "    <tr style=\"text-align: right;\">\n",
       "      <th></th>\n",
       "      <th>SEQN</th>\n",
       "      <th>total_sugars</th>\n",
       "      <th>total_protein</th>\n",
       "      <th>total_carbs</th>\n",
       "      <th>total_fat</th>\n",
       "      <th>monounsaturated_fat</th>\n",
       "      <th>polyunsaturated_fat</th>\n",
       "      <th>saturated_fat</th>\n",
       "    </tr>\n",
       "  </thead>\n",
       "  <tbody>\n",
       "    <tr>\n",
       "      <th>0</th>\n",
       "      <td>109263</td>\n",
       "      <td>73.42</td>\n",
       "      <td>52.79</td>\n",
       "      <td>187.65</td>\n",
       "      <td>48.82</td>\n",
       "      <td>15.420</td>\n",
       "      <td>9.510</td>\n",
       "      <td>18.660</td>\n",
       "    </tr>\n",
       "    <tr>\n",
       "      <th>1</th>\n",
       "      <td>109264</td>\n",
       "      <td>27.86</td>\n",
       "      <td>55.55</td>\n",
       "      <td>121.68</td>\n",
       "      <td>37.63</td>\n",
       "      <td>13.896</td>\n",
       "      <td>12.426</td>\n",
       "      <td>7.861</td>\n",
       "    </tr>\n",
       "    <tr>\n",
       "      <th>2</th>\n",
       "      <td>109265</td>\n",
       "      <td>157.08</td>\n",
       "      <td>57.47</td>\n",
       "      <td>246.53</td>\n",
       "      <td>80.63</td>\n",
       "      <td>28.231</td>\n",
       "      <td>12.957</td>\n",
       "      <td>33.562</td>\n",
       "    </tr>\n",
       "    <tr>\n",
       "      <th>3</th>\n",
       "      <td>109266</td>\n",
       "      <td>94.20</td>\n",
       "      <td>52.58</td>\n",
       "      <td>217.69</td>\n",
       "      <td>73.81</td>\n",
       "      <td>25.513</td>\n",
       "      <td>19.171</td>\n",
       "      <td>22.175</td>\n",
       "    </tr>\n",
       "    <tr>\n",
       "      <th>4</th>\n",
       "      <td>109269</td>\n",
       "      <td>84.83</td>\n",
       "      <td>24.96</td>\n",
       "      <td>159.99</td>\n",
       "      <td>57.81</td>\n",
       "      <td>16.084</td>\n",
       "      <td>22.317</td>\n",
       "      <td>15.273</td>\n",
       "    </tr>\n",
       "  </tbody>\n",
       "</table>\n",
       "</div>"
      ],
      "text/plain": [
       "     SEQN  total_sugars  total_protein  total_carbs  total_fat  \\\n",
       "0  109263         73.42          52.79       187.65      48.82   \n",
       "1  109264         27.86          55.55       121.68      37.63   \n",
       "2  109265        157.08          57.47       246.53      80.63   \n",
       "3  109266         94.20          52.58       217.69      73.81   \n",
       "4  109269         84.83          24.96       159.99      57.81   \n",
       "\n",
       "   monounsaturated_fat  polyunsaturated_fat  saturated_fat  \n",
       "0               15.420                9.510         18.660  \n",
       "1               13.896               12.426          7.861  \n",
       "2               28.231               12.957         33.562  \n",
       "3               25.513               19.171         22.175  \n",
       "4               16.084               22.317         15.273  "
      ]
     },
     "execution_count": 6,
     "metadata": {},
     "output_type": "execute_result"
    }
   ],
   "source": [
    "fat_df.head(5)"
   ]
  },
  {
   "cell_type": "code",
   "execution_count": 7,
   "id": "617f7ede-7fa1-4c90-88dc-500191e4c5bd",
   "metadata": {},
   "outputs": [],
   "source": [
    "# upload diabetes dataset which has whether each participant is diabetic or not\n",
    "diabetes_df = pd.read_sas('P_DIQ.XPT')"
   ]
  },
  {
   "cell_type": "code",
   "execution_count": 8,
   "id": "9a3dee87",
   "metadata": {},
   "outputs": [],
   "source": [
    "diabetes_df['DIQ010'] = diabetes_df['DIQ010'].astype(int)\n",
    "diabetes_df['SEQN'] = diabetes_df['SEQN'].astype(int)"
   ]
  },
  {
   "cell_type": "code",
   "execution_count": 9,
   "id": "3ad2e1a9",
   "metadata": {},
   "outputs": [
    {
     "data": {
      "text/html": [
       "<div>\n",
       "<style scoped>\n",
       "    .dataframe tbody tr th:only-of-type {\n",
       "        vertical-align: middle;\n",
       "    }\n",
       "\n",
       "    .dataframe tbody tr th {\n",
       "        vertical-align: top;\n",
       "    }\n",
       "\n",
       "    .dataframe thead th {\n",
       "        text-align: right;\n",
       "    }\n",
       "</style>\n",
       "<table border=\"1\" class=\"dataframe\">\n",
       "  <thead>\n",
       "    <tr style=\"text-align: right;\">\n",
       "      <th></th>\n",
       "      <th>SEQN</th>\n",
       "      <th>DIQ010</th>\n",
       "      <th>DID040</th>\n",
       "      <th>DIQ160</th>\n",
       "      <th>DIQ180</th>\n",
       "      <th>DIQ050</th>\n",
       "      <th>DID060</th>\n",
       "      <th>DIQ060U</th>\n",
       "      <th>DIQ070</th>\n",
       "      <th>DIQ230</th>\n",
       "      <th>...</th>\n",
       "      <th>DIQ300D</th>\n",
       "      <th>DID310S</th>\n",
       "      <th>DID310D</th>\n",
       "      <th>DID320</th>\n",
       "      <th>DID330</th>\n",
       "      <th>DID341</th>\n",
       "      <th>DID350</th>\n",
       "      <th>DIQ350U</th>\n",
       "      <th>DIQ360</th>\n",
       "      <th>DIQ080</th>\n",
       "    </tr>\n",
       "  </thead>\n",
       "  <tbody>\n",
       "    <tr>\n",
       "      <th>0</th>\n",
       "      <td>109263</td>\n",
       "      <td>2</td>\n",
       "      <td>NaN</td>\n",
       "      <td>NaN</td>\n",
       "      <td>NaN</td>\n",
       "      <td>NaN</td>\n",
       "      <td>NaN</td>\n",
       "      <td>NaN</td>\n",
       "      <td>NaN</td>\n",
       "      <td>NaN</td>\n",
       "      <td>...</td>\n",
       "      <td>NaN</td>\n",
       "      <td>NaN</td>\n",
       "      <td>NaN</td>\n",
       "      <td>NaN</td>\n",
       "      <td>NaN</td>\n",
       "      <td>NaN</td>\n",
       "      <td>NaN</td>\n",
       "      <td>NaN</td>\n",
       "      <td>NaN</td>\n",
       "      <td>NaN</td>\n",
       "    </tr>\n",
       "    <tr>\n",
       "      <th>1</th>\n",
       "      <td>109264</td>\n",
       "      <td>2</td>\n",
       "      <td>NaN</td>\n",
       "      <td>2.0</td>\n",
       "      <td>2.0</td>\n",
       "      <td>NaN</td>\n",
       "      <td>NaN</td>\n",
       "      <td>NaN</td>\n",
       "      <td>NaN</td>\n",
       "      <td>NaN</td>\n",
       "      <td>...</td>\n",
       "      <td>NaN</td>\n",
       "      <td>NaN</td>\n",
       "      <td>NaN</td>\n",
       "      <td>NaN</td>\n",
       "      <td>NaN</td>\n",
       "      <td>NaN</td>\n",
       "      <td>NaN</td>\n",
       "      <td>NaN</td>\n",
       "      <td>NaN</td>\n",
       "      <td>NaN</td>\n",
       "    </tr>\n",
       "    <tr>\n",
       "      <th>2</th>\n",
       "      <td>109265</td>\n",
       "      <td>2</td>\n",
       "      <td>NaN</td>\n",
       "      <td>NaN</td>\n",
       "      <td>NaN</td>\n",
       "      <td>NaN</td>\n",
       "      <td>NaN</td>\n",
       "      <td>NaN</td>\n",
       "      <td>NaN</td>\n",
       "      <td>NaN</td>\n",
       "      <td>...</td>\n",
       "      <td>NaN</td>\n",
       "      <td>NaN</td>\n",
       "      <td>NaN</td>\n",
       "      <td>NaN</td>\n",
       "      <td>NaN</td>\n",
       "      <td>NaN</td>\n",
       "      <td>NaN</td>\n",
       "      <td>NaN</td>\n",
       "      <td>NaN</td>\n",
       "      <td>NaN</td>\n",
       "    </tr>\n",
       "    <tr>\n",
       "      <th>3</th>\n",
       "      <td>109266</td>\n",
       "      <td>2</td>\n",
       "      <td>NaN</td>\n",
       "      <td>1.0</td>\n",
       "      <td>1.0</td>\n",
       "      <td>NaN</td>\n",
       "      <td>NaN</td>\n",
       "      <td>NaN</td>\n",
       "      <td>2.0</td>\n",
       "      <td>NaN</td>\n",
       "      <td>...</td>\n",
       "      <td>NaN</td>\n",
       "      <td>NaN</td>\n",
       "      <td>NaN</td>\n",
       "      <td>NaN</td>\n",
       "      <td>NaN</td>\n",
       "      <td>NaN</td>\n",
       "      <td>NaN</td>\n",
       "      <td>NaN</td>\n",
       "      <td>NaN</td>\n",
       "      <td>NaN</td>\n",
       "    </tr>\n",
       "    <tr>\n",
       "      <th>4</th>\n",
       "      <td>109267</td>\n",
       "      <td>2</td>\n",
       "      <td>NaN</td>\n",
       "      <td>2.0</td>\n",
       "      <td>2.0</td>\n",
       "      <td>NaN</td>\n",
       "      <td>NaN</td>\n",
       "      <td>NaN</td>\n",
       "      <td>NaN</td>\n",
       "      <td>NaN</td>\n",
       "      <td>...</td>\n",
       "      <td>NaN</td>\n",
       "      <td>NaN</td>\n",
       "      <td>NaN</td>\n",
       "      <td>NaN</td>\n",
       "      <td>NaN</td>\n",
       "      <td>NaN</td>\n",
       "      <td>NaN</td>\n",
       "      <td>NaN</td>\n",
       "      <td>NaN</td>\n",
       "      <td>NaN</td>\n",
       "    </tr>\n",
       "    <tr>\n",
       "      <th>...</th>\n",
       "      <td>...</td>\n",
       "      <td>...</td>\n",
       "      <td>...</td>\n",
       "      <td>...</td>\n",
       "      <td>...</td>\n",
       "      <td>...</td>\n",
       "      <td>...</td>\n",
       "      <td>...</td>\n",
       "      <td>...</td>\n",
       "      <td>...</td>\n",
       "      <td>...</td>\n",
       "      <td>...</td>\n",
       "      <td>...</td>\n",
       "      <td>...</td>\n",
       "      <td>...</td>\n",
       "      <td>...</td>\n",
       "      <td>...</td>\n",
       "      <td>...</td>\n",
       "      <td>...</td>\n",
       "      <td>...</td>\n",
       "      <td>...</td>\n",
       "    </tr>\n",
       "    <tr>\n",
       "      <th>14981</th>\n",
       "      <td>124818</td>\n",
       "      <td>2</td>\n",
       "      <td>NaN</td>\n",
       "      <td>2.0</td>\n",
       "      <td>2.0</td>\n",
       "      <td>NaN</td>\n",
       "      <td>NaN</td>\n",
       "      <td>NaN</td>\n",
       "      <td>NaN</td>\n",
       "      <td>NaN</td>\n",
       "      <td>...</td>\n",
       "      <td>NaN</td>\n",
       "      <td>NaN</td>\n",
       "      <td>NaN</td>\n",
       "      <td>NaN</td>\n",
       "      <td>NaN</td>\n",
       "      <td>NaN</td>\n",
       "      <td>NaN</td>\n",
       "      <td>NaN</td>\n",
       "      <td>NaN</td>\n",
       "      <td>NaN</td>\n",
       "    </tr>\n",
       "    <tr>\n",
       "      <th>14982</th>\n",
       "      <td>124819</td>\n",
       "      <td>2</td>\n",
       "      <td>NaN</td>\n",
       "      <td>NaN</td>\n",
       "      <td>NaN</td>\n",
       "      <td>NaN</td>\n",
       "      <td>NaN</td>\n",
       "      <td>NaN</td>\n",
       "      <td>NaN</td>\n",
       "      <td>NaN</td>\n",
       "      <td>...</td>\n",
       "      <td>NaN</td>\n",
       "      <td>NaN</td>\n",
       "      <td>NaN</td>\n",
       "      <td>NaN</td>\n",
       "      <td>NaN</td>\n",
       "      <td>NaN</td>\n",
       "      <td>NaN</td>\n",
       "      <td>NaN</td>\n",
       "      <td>NaN</td>\n",
       "      <td>NaN</td>\n",
       "    </tr>\n",
       "    <tr>\n",
       "      <th>14983</th>\n",
       "      <td>124820</td>\n",
       "      <td>2</td>\n",
       "      <td>NaN</td>\n",
       "      <td>NaN</td>\n",
       "      <td>NaN</td>\n",
       "      <td>NaN</td>\n",
       "      <td>NaN</td>\n",
       "      <td>NaN</td>\n",
       "      <td>NaN</td>\n",
       "      <td>NaN</td>\n",
       "      <td>...</td>\n",
       "      <td>NaN</td>\n",
       "      <td>NaN</td>\n",
       "      <td>NaN</td>\n",
       "      <td>NaN</td>\n",
       "      <td>NaN</td>\n",
       "      <td>NaN</td>\n",
       "      <td>NaN</td>\n",
       "      <td>NaN</td>\n",
       "      <td>NaN</td>\n",
       "      <td>NaN</td>\n",
       "    </tr>\n",
       "    <tr>\n",
       "      <th>14984</th>\n",
       "      <td>124821</td>\n",
       "      <td>3</td>\n",
       "      <td>NaN</td>\n",
       "      <td>NaN</td>\n",
       "      <td>1.0</td>\n",
       "      <td>NaN</td>\n",
       "      <td>NaN</td>\n",
       "      <td>NaN</td>\n",
       "      <td>2.0</td>\n",
       "      <td>NaN</td>\n",
       "      <td>...</td>\n",
       "      <td>NaN</td>\n",
       "      <td>NaN</td>\n",
       "      <td>NaN</td>\n",
       "      <td>NaN</td>\n",
       "      <td>NaN</td>\n",
       "      <td>NaN</td>\n",
       "      <td>NaN</td>\n",
       "      <td>NaN</td>\n",
       "      <td>NaN</td>\n",
       "      <td>NaN</td>\n",
       "    </tr>\n",
       "    <tr>\n",
       "      <th>14985</th>\n",
       "      <td>124822</td>\n",
       "      <td>2</td>\n",
       "      <td>NaN</td>\n",
       "      <td>1.0</td>\n",
       "      <td>1.0</td>\n",
       "      <td>NaN</td>\n",
       "      <td>NaN</td>\n",
       "      <td>NaN</td>\n",
       "      <td>2.0</td>\n",
       "      <td>NaN</td>\n",
       "      <td>...</td>\n",
       "      <td>NaN</td>\n",
       "      <td>NaN</td>\n",
       "      <td>NaN</td>\n",
       "      <td>NaN</td>\n",
       "      <td>NaN</td>\n",
       "      <td>NaN</td>\n",
       "      <td>NaN</td>\n",
       "      <td>NaN</td>\n",
       "      <td>NaN</td>\n",
       "      <td>NaN</td>\n",
       "    </tr>\n",
       "  </tbody>\n",
       "</table>\n",
       "<p>14986 rows × 28 columns</p>\n",
       "</div>"
      ],
      "text/plain": [
       "         SEQN  DIQ010  DID040  DIQ160  DIQ180  DIQ050  DID060  DIQ060U  \\\n",
       "0      109263       2     NaN     NaN     NaN     NaN     NaN      NaN   \n",
       "1      109264       2     NaN     2.0     2.0     NaN     NaN      NaN   \n",
       "2      109265       2     NaN     NaN     NaN     NaN     NaN      NaN   \n",
       "3      109266       2     NaN     1.0     1.0     NaN     NaN      NaN   \n",
       "4      109267       2     NaN     2.0     2.0     NaN     NaN      NaN   \n",
       "...       ...     ...     ...     ...     ...     ...     ...      ...   \n",
       "14981  124818       2     NaN     2.0     2.0     NaN     NaN      NaN   \n",
       "14982  124819       2     NaN     NaN     NaN     NaN     NaN      NaN   \n",
       "14983  124820       2     NaN     NaN     NaN     NaN     NaN      NaN   \n",
       "14984  124821       3     NaN     NaN     1.0     NaN     NaN      NaN   \n",
       "14985  124822       2     NaN     1.0     1.0     NaN     NaN      NaN   \n",
       "\n",
       "       DIQ070  DIQ230  ...  DIQ300D  DID310S  DID310D  DID320  DID330  DID341  \\\n",
       "0         NaN     NaN  ...      NaN      NaN      NaN     NaN     NaN     NaN   \n",
       "1         NaN     NaN  ...      NaN      NaN      NaN     NaN     NaN     NaN   \n",
       "2         NaN     NaN  ...      NaN      NaN      NaN     NaN     NaN     NaN   \n",
       "3         2.0     NaN  ...      NaN      NaN      NaN     NaN     NaN     NaN   \n",
       "4         NaN     NaN  ...      NaN      NaN      NaN     NaN     NaN     NaN   \n",
       "...       ...     ...  ...      ...      ...      ...     ...     ...     ...   \n",
       "14981     NaN     NaN  ...      NaN      NaN      NaN     NaN     NaN     NaN   \n",
       "14982     NaN     NaN  ...      NaN      NaN      NaN     NaN     NaN     NaN   \n",
       "14983     NaN     NaN  ...      NaN      NaN      NaN     NaN     NaN     NaN   \n",
       "14984     2.0     NaN  ...      NaN      NaN      NaN     NaN     NaN     NaN   \n",
       "14985     2.0     NaN  ...      NaN      NaN      NaN     NaN     NaN     NaN   \n",
       "\n",
       "       DID350  DIQ350U  DIQ360  DIQ080  \n",
       "0         NaN      NaN     NaN     NaN  \n",
       "1         NaN      NaN     NaN     NaN  \n",
       "2         NaN      NaN     NaN     NaN  \n",
       "3         NaN      NaN     NaN     NaN  \n",
       "4         NaN      NaN     NaN     NaN  \n",
       "...       ...      ...     ...     ...  \n",
       "14981     NaN      NaN     NaN     NaN  \n",
       "14982     NaN      NaN     NaN     NaN  \n",
       "14983     NaN      NaN     NaN     NaN  \n",
       "14984     NaN      NaN     NaN     NaN  \n",
       "14985     NaN      NaN     NaN     NaN  \n",
       "\n",
       "[14986 rows x 28 columns]"
      ]
     },
     "execution_count": 9,
     "metadata": {},
     "output_type": "execute_result"
    }
   ],
   "source": [
    "diabetes_df "
   ]
  },
  {
   "cell_type": "code",
   "execution_count": 10,
   "id": "f6b99f23-05cd-4060-82dd-97a6b4f9d230",
   "metadata": {},
   "outputs": [],
   "source": [
    "diabetes_df = diabetes_df[(diabetes_df['DIQ010'] == 2) | (diabetes_df['DIQ010'] == 1)]"
   ]
  },
  {
   "cell_type": "code",
   "execution_count": 11,
   "id": "f42f1de9",
   "metadata": {},
   "outputs": [
    {
     "data": {
      "text/html": [
       "<div>\n",
       "<style scoped>\n",
       "    .dataframe tbody tr th:only-of-type {\n",
       "        vertical-align: middle;\n",
       "    }\n",
       "\n",
       "    .dataframe tbody tr th {\n",
       "        vertical-align: top;\n",
       "    }\n",
       "\n",
       "    .dataframe thead th {\n",
       "        text-align: right;\n",
       "    }\n",
       "</style>\n",
       "<table border=\"1\" class=\"dataframe\">\n",
       "  <thead>\n",
       "    <tr style=\"text-align: right;\">\n",
       "      <th></th>\n",
       "      <th>SEQN</th>\n",
       "      <th>DIQ010</th>\n",
       "    </tr>\n",
       "  </thead>\n",
       "  <tbody>\n",
       "    <tr>\n",
       "      <th>0</th>\n",
       "      <td>109263</td>\n",
       "      <td>2</td>\n",
       "    </tr>\n",
       "    <tr>\n",
       "      <th>1</th>\n",
       "      <td>109264</td>\n",
       "      <td>2</td>\n",
       "    </tr>\n",
       "    <tr>\n",
       "      <th>2</th>\n",
       "      <td>109265</td>\n",
       "      <td>2</td>\n",
       "    </tr>\n",
       "    <tr>\n",
       "      <th>3</th>\n",
       "      <td>109266</td>\n",
       "      <td>2</td>\n",
       "    </tr>\n",
       "    <tr>\n",
       "      <th>4</th>\n",
       "      <td>109267</td>\n",
       "      <td>2</td>\n",
       "    </tr>\n",
       "  </tbody>\n",
       "</table>\n",
       "</div>"
      ],
      "text/plain": [
       "     SEQN  DIQ010\n",
       "0  109263       2\n",
       "1  109264       2\n",
       "2  109265       2\n",
       "3  109266       2\n",
       "4  109267       2"
      ]
     },
     "execution_count": 11,
     "metadata": {},
     "output_type": "execute_result"
    }
   ],
   "source": [
    "# diabetes_df is cleaned \n",
    "diabetes_df = diabetes_df.iloc[:,:2]\n",
    "diabetes_df.head()"
   ]
  },
  {
   "cell_type": "code",
   "execution_count": 12,
   "id": "671bfb0d",
   "metadata": {},
   "outputs": [
    {
     "data": {
      "text/html": [
       "<div>\n",
       "<style scoped>\n",
       "    .dataframe tbody tr th:only-of-type {\n",
       "        vertical-align: middle;\n",
       "    }\n",
       "\n",
       "    .dataframe tbody tr th {\n",
       "        vertical-align: top;\n",
       "    }\n",
       "\n",
       "    .dataframe thead th {\n",
       "        text-align: right;\n",
       "    }\n",
       "</style>\n",
       "<table border=\"1\" class=\"dataframe\">\n",
       "  <thead>\n",
       "    <tr style=\"text-align: right;\">\n",
       "      <th></th>\n",
       "      <th>SEQN</th>\n",
       "      <th>DIQ010</th>\n",
       "      <th>total_sugars</th>\n",
       "      <th>total_protein</th>\n",
       "      <th>total_carbs</th>\n",
       "      <th>total_fat</th>\n",
       "      <th>monounsaturated_fat</th>\n",
       "      <th>polyunsaturated_fat</th>\n",
       "      <th>saturated_fat</th>\n",
       "    </tr>\n",
       "  </thead>\n",
       "  <tbody>\n",
       "    <tr>\n",
       "      <th>0</th>\n",
       "      <td>109263</td>\n",
       "      <td>2</td>\n",
       "      <td>73.42</td>\n",
       "      <td>52.79</td>\n",
       "      <td>187.65</td>\n",
       "      <td>48.82</td>\n",
       "      <td>15.420</td>\n",
       "      <td>9.510</td>\n",
       "      <td>18.660</td>\n",
       "    </tr>\n",
       "    <tr>\n",
       "      <th>1</th>\n",
       "      <td>109264</td>\n",
       "      <td>2</td>\n",
       "      <td>27.86</td>\n",
       "      <td>55.55</td>\n",
       "      <td>121.68</td>\n",
       "      <td>37.63</td>\n",
       "      <td>13.896</td>\n",
       "      <td>12.426</td>\n",
       "      <td>7.861</td>\n",
       "    </tr>\n",
       "    <tr>\n",
       "      <th>2</th>\n",
       "      <td>109265</td>\n",
       "      <td>2</td>\n",
       "      <td>157.08</td>\n",
       "      <td>57.47</td>\n",
       "      <td>246.53</td>\n",
       "      <td>80.63</td>\n",
       "      <td>28.231</td>\n",
       "      <td>12.957</td>\n",
       "      <td>33.562</td>\n",
       "    </tr>\n",
       "    <tr>\n",
       "      <th>3</th>\n",
       "      <td>109266</td>\n",
       "      <td>2</td>\n",
       "      <td>94.20</td>\n",
       "      <td>52.58</td>\n",
       "      <td>217.69</td>\n",
       "      <td>73.81</td>\n",
       "      <td>25.513</td>\n",
       "      <td>19.171</td>\n",
       "      <td>22.175</td>\n",
       "    </tr>\n",
       "    <tr>\n",
       "      <th>4</th>\n",
       "      <td>109269</td>\n",
       "      <td>2</td>\n",
       "      <td>84.83</td>\n",
       "      <td>24.96</td>\n",
       "      <td>159.99</td>\n",
       "      <td>57.81</td>\n",
       "      <td>16.084</td>\n",
       "      <td>22.317</td>\n",
       "      <td>15.273</td>\n",
       "    </tr>\n",
       "    <tr>\n",
       "      <th>...</th>\n",
       "      <td>...</td>\n",
       "      <td>...</td>\n",
       "      <td>...</td>\n",
       "      <td>...</td>\n",
       "      <td>...</td>\n",
       "      <td>...</td>\n",
       "      <td>...</td>\n",
       "      <td>...</td>\n",
       "      <td>...</td>\n",
       "    </tr>\n",
       "    <tr>\n",
       "      <th>11875</th>\n",
       "      <td>124816</td>\n",
       "      <td>2</td>\n",
       "      <td>84.48</td>\n",
       "      <td>76.55</td>\n",
       "      <td>178.18</td>\n",
       "      <td>76.43</td>\n",
       "      <td>21.330</td>\n",
       "      <td>19.030</td>\n",
       "      <td>29.086</td>\n",
       "    </tr>\n",
       "    <tr>\n",
       "      <th>11876</th>\n",
       "      <td>124817</td>\n",
       "      <td>1</td>\n",
       "      <td>51.03</td>\n",
       "      <td>51.33</td>\n",
       "      <td>90.33</td>\n",
       "      <td>63.18</td>\n",
       "      <td>22.624</td>\n",
       "      <td>9.509</td>\n",
       "      <td>25.360</td>\n",
       "    </tr>\n",
       "    <tr>\n",
       "      <th>11877</th>\n",
       "      <td>124818</td>\n",
       "      <td>2</td>\n",
       "      <td>278.84</td>\n",
       "      <td>58.05</td>\n",
       "      <td>512.14</td>\n",
       "      <td>183.51</td>\n",
       "      <td>61.034</td>\n",
       "      <td>45.841</td>\n",
       "      <td>62.115</td>\n",
       "    </tr>\n",
       "    <tr>\n",
       "      <th>11878</th>\n",
       "      <td>124819</td>\n",
       "      <td>2</td>\n",
       "      <td>108.36</td>\n",
       "      <td>67.43</td>\n",
       "      <td>197.26</td>\n",
       "      <td>77.71</td>\n",
       "      <td>24.228</td>\n",
       "      <td>10.880</td>\n",
       "      <td>32.515</td>\n",
       "    </tr>\n",
       "    <tr>\n",
       "      <th>11879</th>\n",
       "      <td>124820</td>\n",
       "      <td>2</td>\n",
       "      <td>65.77</td>\n",
       "      <td>39.32</td>\n",
       "      <td>157.81</td>\n",
       "      <td>48.77</td>\n",
       "      <td>13.070</td>\n",
       "      <td>14.765</td>\n",
       "      <td>15.558</td>\n",
       "    </tr>\n",
       "  </tbody>\n",
       "</table>\n",
       "<p>11880 rows × 9 columns</p>\n",
       "</div>"
      ],
      "text/plain": [
       "         SEQN  DIQ010  total_sugars  total_protein  total_carbs  total_fat  \\\n",
       "0      109263       2         73.42          52.79       187.65      48.82   \n",
       "1      109264       2         27.86          55.55       121.68      37.63   \n",
       "2      109265       2        157.08          57.47       246.53      80.63   \n",
       "3      109266       2         94.20          52.58       217.69      73.81   \n",
       "4      109269       2         84.83          24.96       159.99      57.81   \n",
       "...       ...     ...           ...            ...          ...        ...   \n",
       "11875  124816       2         84.48          76.55       178.18      76.43   \n",
       "11876  124817       1         51.03          51.33        90.33      63.18   \n",
       "11877  124818       2        278.84          58.05       512.14     183.51   \n",
       "11878  124819       2        108.36          67.43       197.26      77.71   \n",
       "11879  124820       2         65.77          39.32       157.81      48.77   \n",
       "\n",
       "       monounsaturated_fat  polyunsaturated_fat  saturated_fat  \n",
       "0                   15.420                9.510         18.660  \n",
       "1                   13.896               12.426          7.861  \n",
       "2                   28.231               12.957         33.562  \n",
       "3                   25.513               19.171         22.175  \n",
       "4                   16.084               22.317         15.273  \n",
       "...                    ...                  ...            ...  \n",
       "11875               21.330               19.030         29.086  \n",
       "11876               22.624                9.509         25.360  \n",
       "11877               61.034               45.841         62.115  \n",
       "11878               24.228               10.880         32.515  \n",
       "11879               13.070               14.765         15.558  \n",
       "\n",
       "[11880 rows x 9 columns]"
      ]
     },
     "execution_count": 12,
     "metadata": {},
     "output_type": "execute_result"
    }
   ],
   "source": [
    "# join the targets with the feature df\n",
    "all_data_df = pd.merge(diabetes_df, fat_df, on='SEQN', how='inner')\n",
    "all_data_df"
   ]
  },
  {
   "cell_type": "code",
   "execution_count": 13,
   "id": "ca8dc596",
   "metadata": {},
   "outputs": [
    {
     "data": {
      "text/html": [
       "<div>\n",
       "<style scoped>\n",
       "    .dataframe tbody tr th:only-of-type {\n",
       "        vertical-align: middle;\n",
       "    }\n",
       "\n",
       "    .dataframe tbody tr th {\n",
       "        vertical-align: top;\n",
       "    }\n",
       "\n",
       "    .dataframe thead th {\n",
       "        text-align: right;\n",
       "    }\n",
       "</style>\n",
       "<table border=\"1\" class=\"dataframe\">\n",
       "  <thead>\n",
       "    <tr style=\"text-align: right;\">\n",
       "      <th></th>\n",
       "      <th>total_sugars</th>\n",
       "      <th>total_protein</th>\n",
       "      <th>total_carbs</th>\n",
       "      <th>total_fat</th>\n",
       "      <th>monounsaturated_fat</th>\n",
       "      <th>polyunsaturated_fat</th>\n",
       "      <th>saturated_fat</th>\n",
       "    </tr>\n",
       "    <tr>\n",
       "      <th>DIQ010</th>\n",
       "      <th></th>\n",
       "      <th></th>\n",
       "      <th></th>\n",
       "      <th></th>\n",
       "      <th></th>\n",
       "      <th></th>\n",
       "      <th></th>\n",
       "    </tr>\n",
       "  </thead>\n",
       "  <tbody>\n",
       "    <tr>\n",
       "      <th>1</th>\n",
       "      <td>91.070941</td>\n",
       "      <td>75.706667</td>\n",
       "      <td>220.761609</td>\n",
       "      <td>83.348647</td>\n",
       "      <td>28.918681</td>\n",
       "      <td>19.881129</td>\n",
       "      <td>26.352111</td>\n",
       "    </tr>\n",
       "    <tr>\n",
       "      <th>2</th>\n",
       "      <td>107.898061</td>\n",
       "      <td>73.180829</td>\n",
       "      <td>244.433552</td>\n",
       "      <td>81.786977</td>\n",
       "      <td>27.539321</td>\n",
       "      <td>19.115079</td>\n",
       "      <td>26.871821</td>\n",
       "    </tr>\n",
       "  </tbody>\n",
       "</table>\n",
       "</div>"
      ],
      "text/plain": [
       "        total_sugars  total_protein  total_carbs  total_fat  \\\n",
       "DIQ010                                                        \n",
       "1          91.070941      75.706667   220.761609  83.348647   \n",
       "2         107.898061      73.180829   244.433552  81.786977   \n",
       "\n",
       "        monounsaturated_fat  polyunsaturated_fat  saturated_fat  \n",
       "DIQ010                                                           \n",
       "1                 28.918681            19.881129      26.352111  \n",
       "2                 27.539321            19.115079      26.871821  "
      ]
     },
     "execution_count": 13,
     "metadata": {},
     "output_type": "execute_result"
    }
   ],
   "source": [
    "all_data_df.groupby('DIQ010').mean().iloc[:,1:] # comparison of means "
   ]
  },
  {
   "cell_type": "code",
   "execution_count": 14,
   "id": "f6e953c6",
   "metadata": {},
   "outputs": [
    {
     "data": {
      "text/html": [
       "<div>\n",
       "<style scoped>\n",
       "    .dataframe tbody tr th:only-of-type {\n",
       "        vertical-align: middle;\n",
       "    }\n",
       "\n",
       "    .dataframe tbody tr th {\n",
       "        vertical-align: top;\n",
       "    }\n",
       "\n",
       "    .dataframe thead th {\n",
       "        text-align: right;\n",
       "    }\n",
       "</style>\n",
       "<table border=\"1\" class=\"dataframe\">\n",
       "  <thead>\n",
       "    <tr style=\"text-align: right;\">\n",
       "      <th></th>\n",
       "      <th>total_sugars</th>\n",
       "      <th>total_protein</th>\n",
       "      <th>total_carbs</th>\n",
       "      <th>total_fat</th>\n",
       "      <th>monounsaturated_fat</th>\n",
       "      <th>polyunsaturated_fat</th>\n",
       "      <th>saturated_fat</th>\n",
       "    </tr>\n",
       "    <tr>\n",
       "      <th>DIQ010</th>\n",
       "      <th></th>\n",
       "      <th></th>\n",
       "      <th></th>\n",
       "      <th></th>\n",
       "      <th></th>\n",
       "      <th></th>\n",
       "      <th></th>\n",
       "    </tr>\n",
       "  </thead>\n",
       "  <tbody>\n",
       "    <tr>\n",
       "      <th>1</th>\n",
       "      <td>68.737856</td>\n",
       "      <td>38.592742</td>\n",
       "      <td>110.434876</td>\n",
       "      <td>46.272363</td>\n",
       "      <td>16.840514</td>\n",
       "      <td>12.958186</td>\n",
       "      <td>16.154555</td>\n",
       "    </tr>\n",
       "    <tr>\n",
       "      <th>2</th>\n",
       "      <td>72.281918</td>\n",
       "      <td>40.677364</td>\n",
       "      <td>123.447732</td>\n",
       "      <td>47.379499</td>\n",
       "      <td>16.824703</td>\n",
       "      <td>13.348337</td>\n",
       "      <td>17.126582</td>\n",
       "    </tr>\n",
       "  </tbody>\n",
       "</table>\n",
       "</div>"
      ],
      "text/plain": [
       "        total_sugars  total_protein  total_carbs  total_fat  \\\n",
       "DIQ010                                                        \n",
       "1          68.737856      38.592742   110.434876  46.272363   \n",
       "2          72.281918      40.677364   123.447732  47.379499   \n",
       "\n",
       "        monounsaturated_fat  polyunsaturated_fat  saturated_fat  \n",
       "DIQ010                                                           \n",
       "1                 16.840514            12.958186      16.154555  \n",
       "2                 16.824703            13.348337      17.126582  "
      ]
     },
     "execution_count": 14,
     "metadata": {},
     "output_type": "execute_result"
    }
   ],
   "source": [
    "all_data_df.groupby('DIQ010').std().iloc[:,1:] # comparing standard deviations"
   ]
  },
  {
   "cell_type": "code",
   "execution_count": 15,
   "id": "e90a8c30",
   "metadata": {},
   "outputs": [
    {
     "data": {
      "text/html": [
       "<div>\n",
       "<style scoped>\n",
       "    .dataframe tbody tr th:only-of-type {\n",
       "        vertical-align: middle;\n",
       "    }\n",
       "\n",
       "    .dataframe tbody tr th {\n",
       "        vertical-align: top;\n",
       "    }\n",
       "\n",
       "    .dataframe thead th {\n",
       "        text-align: right;\n",
       "    }\n",
       "</style>\n",
       "<table border=\"1\" class=\"dataframe\">\n",
       "  <thead>\n",
       "    <tr style=\"text-align: right;\">\n",
       "      <th></th>\n",
       "      <th>total_sugars</th>\n",
       "      <th>total_protein</th>\n",
       "      <th>total_carbs</th>\n",
       "      <th>total_fat</th>\n",
       "      <th>monounsaturated_fat</th>\n",
       "      <th>polyunsaturated_fat</th>\n",
       "      <th>saturated_fat</th>\n",
       "    </tr>\n",
       "    <tr>\n",
       "      <th>DIQ010</th>\n",
       "      <th></th>\n",
       "      <th></th>\n",
       "      <th></th>\n",
       "      <th></th>\n",
       "      <th></th>\n",
       "      <th></th>\n",
       "      <th></th>\n",
       "    </tr>\n",
       "  </thead>\n",
       "  <tbody>\n",
       "    <tr>\n",
       "      <th>1</th>\n",
       "      <td>75.995</td>\n",
       "      <td>69.205</td>\n",
       "      <td>204.255</td>\n",
       "      <td>75.775</td>\n",
       "      <td>25.6110</td>\n",
       "      <td>17.2215</td>\n",
       "      <td>23.3190</td>\n",
       "    </tr>\n",
       "    <tr>\n",
       "      <th>2</th>\n",
       "      <td>93.615</td>\n",
       "      <td>65.210</td>\n",
       "      <td>223.560</td>\n",
       "      <td>72.480</td>\n",
       "      <td>24.0965</td>\n",
       "      <td>16.1120</td>\n",
       "      <td>23.3845</td>\n",
       "    </tr>\n",
       "  </tbody>\n",
       "</table>\n",
       "</div>"
      ],
      "text/plain": [
       "        total_sugars  total_protein  total_carbs  total_fat  \\\n",
       "DIQ010                                                        \n",
       "1             75.995         69.205      204.255     75.775   \n",
       "2             93.615         65.210      223.560     72.480   \n",
       "\n",
       "        monounsaturated_fat  polyunsaturated_fat  saturated_fat  \n",
       "DIQ010                                                           \n",
       "1                   25.6110              17.2215        23.3190  \n",
       "2                   24.0965              16.1120        23.3845  "
      ]
     },
     "execution_count": 15,
     "metadata": {},
     "output_type": "execute_result"
    }
   ],
   "source": [
    "all_data_df.groupby('DIQ010').median().iloc[:,1:] # comparing medians"
   ]
  },
  {
   "cell_type": "code",
   "execution_count": 16,
   "id": "2285b143",
   "metadata": {},
   "outputs": [
    {
     "data": {
      "text/plain": [
       "<matplotlib.legend.Legend at 0x1d89f031490>"
      ]
     },
     "execution_count": 16,
     "metadata": {},
     "output_type": "execute_result"
    },
    {
     "data": {
      "image/png": "[encoded data removed]",
      "text/plain": [
       "<Figure size 640x480 with 1 Axes>"
      ]
     },
     "metadata": {},
     "output_type": "display_data"
    }
   ],
   "source": [
    "group_means = all_data_df.groupby('DIQ010').mean().iloc[:,4:]\n",
    "positions = np.arange(len(group_means))\n",
    "width = 0.19\n",
    "\n",
    "fig, ax = plt.subplots()\n",
    "ax.grid(True)\n",
    "for i, column in enumerate(group_means.columns):\n",
    "    ax.bar(positions + i * width, group_means[column], width=width, label=column)\n",
    "\n",
    "    \n",
    "ax.set_xticks(positions + width)\n",
    "ax.set_xticklabels(['Diabetes', 'Non Diabetes'])\n",
    "ax.set_title('Mean amount of Fat for Diabetes and Non Diabetes')\n",
    "\n",
    "ax.legend(title='Type of Fat',loc=(.15,0.66))"
   ]
  },
  {
   "cell_type": "code",
   "execution_count": 18,
   "id": "f4e8d265",
   "metadata": {},
   "outputs": [
    {
     "name": "stdout",
     "output_type": "stream",
     "text": [
      "total fats: T-statistic: 1.1106622566599345, P-value: 0.26689008438505285\n"
     ]
    }
   ],
   "source": [
    "diabetics = all_data_df[all_data_df['DIQ010'] == 1]['total_fat']\n",
    "non_diabetics = all_data_df[all_data_df['DIQ010'] == 2]['total_fat']\n",
    "\n",
    "diabetics = diabetics.dropna()\n",
    "non_diabetics = non_diabetics.dropna()\n",
    "\n",
    "# Perform two-sample t-test\n",
    "t_stat, p_value = stats.ttest_ind(np.array(diabetics), np.array(non_diabetics), equal_var=False)\n",
    "print(f'total fats: T-statistic: {t_stat}, P-value: {p_value}')\n"
   ]
  },
  {
   "cell_type": "code",
   "execution_count": 19,
   "id": "e4e3e33f",
   "metadata": {},
   "outputs": [
    {
     "name": "stdout",
     "output_type": "stream",
     "text": [
      "polyunsaturated fat: T-statistic: 1.9442303116627393, P-value: 0.05205220270280318\n"
     ]
    }
   ],
   "source": [
    "diabetics = all_data_df[all_data_df['DIQ010'] == 1]['polyunsaturated_fat']\n",
    "non_diabetics = all_data_df[all_data_df['DIQ010'] == 2]['polyunsaturated_fat']\n",
    "\n",
    "diabetics = diabetics.dropna()\n",
    "non_diabetics = non_diabetics.dropna()\n",
    "\n",
    "# Perform two-sample t-test\n",
    "t_stat, p_value = stats.ttest_ind(np.array(diabetics), np.array(non_diabetics), equal_var=False)\n",
    "print(f'polyunsaturated fat: T-statistic: {t_stat}, P-value: {p_value}')"
   ]
  },
  {
   "cell_type": "code",
   "execution_count": 20,
   "id": "4eca3b73",
   "metadata": {},
   "outputs": [
    {
     "name": "stdout",
     "output_type": "stream",
     "text": [
      "monounsaturated fat: T-statistic: 2.70239122386061, P-value: 0.0069619552966549165\n"
     ]
    }
   ],
   "source": [
    "diabetics = all_data_df[all_data_df['DIQ010'] == 1]['monounsaturated_fat']\n",
    "non_diabetics = all_data_df[all_data_df['DIQ010'] == 2]['monounsaturated_fat']\n",
    "\n",
    "diabetics = diabetics.dropna()\n",
    "non_diabetics = non_diabetics.dropna()\n",
    "\n",
    "# Perform two-sample t-test\n",
    "t_stat, p_value = stats.ttest_ind(np.array(diabetics), np.array(non_diabetics), equal_var=False)\n",
    "print(f'monounsaturated fat: T-statistic: {t_stat}, P-value: {p_value}')"
   ]
  },
  {
   "cell_type": "code",
   "execution_count": 21,
   "id": "ed7cf6b0",
   "metadata": {},
   "outputs": [
    {
     "name": "stdout",
     "output_type": "stream",
     "text": [
      "saturated fat: T-statistic: -1.0546810119742482, P-value: 0.2917369785991942\n"
     ]
    }
   ],
   "source": [
    "diabetics = all_data_df[all_data_df['DIQ010'] == 1]['saturated_fat']\n",
    "non_diabetics = all_data_df[all_data_df['DIQ010'] == 2]['saturated_fat']\n",
    "\n",
    "diabetics = diabetics.dropna()\n",
    "non_diabetics = non_diabetics.dropna()\n",
    "\n",
    "# Perform two-sample t-test\n",
    "t_stat, p_value = stats.ttest_ind(np.array(diabetics), np.array(non_diabetics), equal_var=False)\n",
    "print(f'saturated fat: T-statistic: {t_stat}, P-value: {p_value}')"
   ]
  },
  {
   "cell_type": "code",
   "execution_count": 22,
   "id": "f114fc3f",
   "metadata": {},
   "outputs": [
    {
     "name": "stdout",
     "output_type": "stream",
     "text": [
      "total sugars: T-statistic: -8.03281273272329, P-value: 1.8833579089454455e-15\n"
     ]
    }
   ],
   "source": [
    "diabetics = all_data_df[all_data_df['DIQ010'] == 1]['total_sugars']\n",
    "non_diabetics = all_data_df[all_data_df['DIQ010'] == 2]['total_sugars']\n",
    "\n",
    "diabetics = diabetics.dropna()\n",
    "non_diabetics = non_diabetics.dropna()\n",
    "\n",
    "# Perform two-sample t-test\n",
    "t_stat, p_value = stats.ttest_ind(np.array(diabetics), np.array(non_diabetics), equal_var=False)\n",
    "print(f'total sugars: T-statistic: {t_stat}, P-value: {p_value}')"
   ]
  },
  {
   "cell_type": "code",
   "execution_count": 23,
   "id": "015bce99",
   "metadata": {},
   "outputs": [
    {
     "name": "stdout",
     "output_type": "stream",
     "text": [
      "total carbs: T-statistic: -6.983177214947425, P-value: 4.240152843523737e-12\n"
     ]
    }
   ],
   "source": [
    "diabetics = all_data_df[all_data_df['DIQ010'] == 1]['total_carbs']\n",
    "non_diabetics = all_data_df[all_data_df['DIQ010'] == 2]['total_carbs']\n",
    "\n",
    "diabetics = diabetics.dropna()\n",
    "non_diabetics = non_diabetics.dropna()\n",
    "\n",
    "# Perform two-sample t-test\n",
    "t_stat, p_value = stats.ttest_ind(np.array(diabetics), np.array(non_diabetics), equal_var=False)\n",
    "print(f'total carbs: T-statistic: {t_stat}, P-value: {p_value}')"
   ]
  },
  {
   "cell_type": "code",
   "execution_count": 24,
   "id": "6b3a7277",
   "metadata": {},
   "outputs": [
    {
     "name": "stdout",
     "output_type": "stream",
     "text": [
      "total_protein: T-statistic: 2.1470410429825617, P-value: 0.0319464412873658\n"
     ]
    }
   ],
   "source": [
    "diabetics = all_data_df[all_data_df['DIQ010'] == 1]['total_protein']\n",
    "non_diabetics = all_data_df[all_data_df['DIQ010'] == 2]['total_protein']\n",
    "\n",
    "diabetics = diabetics.dropna()\n",
    "non_diabetics = non_diabetics.dropna()\n",
    "\n",
    "# Perform two-sample t-test\n",
    "t_stat, p_value = stats.ttest_ind(np.array(diabetics), np.array(non_diabetics), equal_var=False)\n",
    "print(f'total_protein: T-statistic: {t_stat}, P-value: {p_value}')"
   ]
  },
  {
   "cell_type": "code",
   "execution_count": 25,
   "id": "f32425b0",
   "metadata": {},
   "outputs": [],
   "source": [
    "# randomly downselect from original data set \n",
    "df_majority = all_data_df[all_data_df['DIQ010'] == 2]\n",
    "df_minority = all_data_df[all_data_df['DIQ010'] == 1]\n",
    "\n"
   ]
  },
  {
   "cell_type": "code",
   "execution_count": 26,
   "id": "3ce55bbc",
   "metadata": {},
   "outputs": [],
   "source": [
    "df_majority_sampled = df_majority.sample(n=len(df_minority), random_state=42)"
   ]
  },
  {
   "cell_type": "code",
   "execution_count": 27,
   "id": "4dc762a1",
   "metadata": {},
   "outputs": [
    {
     "data": {
      "text/html": [
       "<div>\n",
       "<style scoped>\n",
       "    .dataframe tbody tr th:only-of-type {\n",
       "        vertical-align: middle;\n",
       "    }\n",
       "\n",
       "    .dataframe tbody tr th {\n",
       "        vertical-align: top;\n",
       "    }\n",
       "\n",
       "    .dataframe thead th {\n",
       "        text-align: right;\n",
       "    }\n",
       "</style>\n",
       "<table border=\"1\" class=\"dataframe\">\n",
       "  <thead>\n",
       "    <tr style=\"text-align: right;\">\n",
       "      <th></th>\n",
       "      <th>SEQN</th>\n",
       "      <th>DIQ010</th>\n",
       "      <th>total_sugars</th>\n",
       "      <th>total_protein</th>\n",
       "      <th>total_carbs</th>\n",
       "      <th>total_fat</th>\n",
       "      <th>monounsaturated_fat</th>\n",
       "      <th>polyunsaturated_fat</th>\n",
       "      <th>saturated_fat</th>\n",
       "    </tr>\n",
       "  </thead>\n",
       "  <tbody>\n",
       "    <tr>\n",
       "      <th>11623</th>\n",
       "      <td>124486</td>\n",
       "      <td>2</td>\n",
       "      <td>46.94</td>\n",
       "      <td>57.97</td>\n",
       "      <td>140.82</td>\n",
       "      <td>40.06</td>\n",
       "      <td>11.675</td>\n",
       "      <td>10.805</td>\n",
       "      <td>14.112</td>\n",
       "    </tr>\n",
       "    <tr>\n",
       "      <th>3250</th>\n",
       "      <td>113612</td>\n",
       "      <td>2</td>\n",
       "      <td>291.26</td>\n",
       "      <td>85.44</td>\n",
       "      <td>577.52</td>\n",
       "      <td>131.22</td>\n",
       "      <td>44.241</td>\n",
       "      <td>38.442</td>\n",
       "      <td>37.196</td>\n",
       "    </tr>\n",
       "    <tr>\n",
       "      <th>8232</th>\n",
       "      <td>120131</td>\n",
       "      <td>2</td>\n",
       "      <td>107.07</td>\n",
       "      <td>51.84</td>\n",
       "      <td>187.46</td>\n",
       "      <td>39.18</td>\n",
       "      <td>10.955</td>\n",
       "      <td>14.684</td>\n",
       "      <td>9.647</td>\n",
       "    </tr>\n",
       "    <tr>\n",
       "      <th>3373</th>\n",
       "      <td>113769</td>\n",
       "      <td>2</td>\n",
       "      <td>77.76</td>\n",
       "      <td>51.69</td>\n",
       "      <td>129.85</td>\n",
       "      <td>27.19</td>\n",
       "      <td>8.335</td>\n",
       "      <td>5.625</td>\n",
       "      <td>9.402</td>\n",
       "    </tr>\n",
       "    <tr>\n",
       "      <th>8775</th>\n",
       "      <td>120844</td>\n",
       "      <td>2</td>\n",
       "      <td>96.31</td>\n",
       "      <td>62.75</td>\n",
       "      <td>162.10</td>\n",
       "      <td>52.22</td>\n",
       "      <td>15.245</td>\n",
       "      <td>14.646</td>\n",
       "      <td>17.238</td>\n",
       "    </tr>\n",
       "    <tr>\n",
       "      <th>...</th>\n",
       "      <td>...</td>\n",
       "      <td>...</td>\n",
       "      <td>...</td>\n",
       "      <td>...</td>\n",
       "      <td>...</td>\n",
       "      <td>...</td>\n",
       "      <td>...</td>\n",
       "      <td>...</td>\n",
       "      <td>...</td>\n",
       "    </tr>\n",
       "    <tr>\n",
       "      <th>11844</th>\n",
       "      <td>124778</td>\n",
       "      <td>1</td>\n",
       "      <td>212.53</td>\n",
       "      <td>76.35</td>\n",
       "      <td>357.11</td>\n",
       "      <td>61.23</td>\n",
       "      <td>21.978</td>\n",
       "      <td>15.006</td>\n",
       "      <td>17.871</td>\n",
       "    </tr>\n",
       "    <tr>\n",
       "      <th>11853</th>\n",
       "      <td>124788</td>\n",
       "      <td>1</td>\n",
       "      <td>81.63</td>\n",
       "      <td>99.74</td>\n",
       "      <td>276.26</td>\n",
       "      <td>158.71</td>\n",
       "      <td>53.171</td>\n",
       "      <td>57.414</td>\n",
       "      <td>35.389</td>\n",
       "    </tr>\n",
       "    <tr>\n",
       "      <th>11859</th>\n",
       "      <td>124796</td>\n",
       "      <td>1</td>\n",
       "      <td>83.77</td>\n",
       "      <td>46.04</td>\n",
       "      <td>191.21</td>\n",
       "      <td>66.88</td>\n",
       "      <td>28.907</td>\n",
       "      <td>8.111</td>\n",
       "      <td>23.160</td>\n",
       "    </tr>\n",
       "    <tr>\n",
       "      <th>11865</th>\n",
       "      <td>124803</td>\n",
       "      <td>1</td>\n",
       "      <td>30.78</td>\n",
       "      <td>63.58</td>\n",
       "      <td>163.83</td>\n",
       "      <td>71.99</td>\n",
       "      <td>21.730</td>\n",
       "      <td>22.430</td>\n",
       "      <td>22.083</td>\n",
       "    </tr>\n",
       "    <tr>\n",
       "      <th>11876</th>\n",
       "      <td>124817</td>\n",
       "      <td>1</td>\n",
       "      <td>51.03</td>\n",
       "      <td>51.33</td>\n",
       "      <td>90.33</td>\n",
       "      <td>63.18</td>\n",
       "      <td>22.624</td>\n",
       "      <td>9.509</td>\n",
       "      <td>25.360</td>\n",
       "    </tr>\n",
       "  </tbody>\n",
       "</table>\n",
       "<p>2424 rows × 9 columns</p>\n",
       "</div>"
      ],
      "text/plain": [
       "         SEQN  DIQ010  total_sugars  total_protein  total_carbs  total_fat  \\\n",
       "11623  124486       2         46.94          57.97       140.82      40.06   \n",
       "3250   113612       2        291.26          85.44       577.52     131.22   \n",
       "8232   120131       2        107.07          51.84       187.46      39.18   \n",
       "3373   113769       2         77.76          51.69       129.85      27.19   \n",
       "8775   120844       2         96.31          62.75       162.10      52.22   \n",
       "...       ...     ...           ...            ...          ...        ...   \n",
       "11844  124778       1        212.53          76.35       357.11      61.23   \n",
       "11853  124788       1         81.63          99.74       276.26     158.71   \n",
       "11859  124796       1         83.77          46.04       191.21      66.88   \n",
       "11865  124803       1         30.78          63.58       163.83      71.99   \n",
       "11876  124817       1         51.03          51.33        90.33      63.18   \n",
       "\n",
       "       monounsaturated_fat  polyunsaturated_fat  saturated_fat  \n",
       "11623               11.675               10.805         14.112  \n",
       "3250                44.241               38.442         37.196  \n",
       "8232                10.955               14.684          9.647  \n",
       "3373                 8.335                5.625          9.402  \n",
       "8775                15.245               14.646         17.238  \n",
       "...                    ...                  ...            ...  \n",
       "11844               21.978               15.006         17.871  \n",
       "11853               53.171               57.414         35.389  \n",
       "11859               28.907                8.111         23.160  \n",
       "11865               21.730               22.430         22.083  \n",
       "11876               22.624                9.509         25.360  \n",
       "\n",
       "[2424 rows x 9 columns]"
      ]
     },
     "execution_count": 27,
     "metadata": {},
     "output_type": "execute_result"
    }
   ],
   "source": [
    "df_balanced = pd.concat([df_majority_sampled, df_minority], axis=0)\n",
    "df_balanced"
   ]
  },
  {
   "cell_type": "code",
   "execution_count": 28,
   "id": "59fb0a57",
   "metadata": {},
   "outputs": [],
   "source": [
    "fat_input = df_balanced.iloc[:,5:]\n",
    "fat_targets = df_balanced.iloc[:,1:2]"
   ]
  },
  {
   "cell_type": "code",
   "execution_count": 29,
   "id": "96655940",
   "metadata": {},
   "outputs": [
    {
     "data": {
      "text/html": [
       "<div>\n",
       "<style scoped>\n",
       "    .dataframe tbody tr th:only-of-type {\n",
       "        vertical-align: middle;\n",
       "    }\n",
       "\n",
       "    .dataframe tbody tr th {\n",
       "        vertical-align: top;\n",
       "    }\n",
       "\n",
       "    .dataframe thead th {\n",
       "        text-align: right;\n",
       "    }\n",
       "</style>\n",
       "<table border=\"1\" class=\"dataframe\">\n",
       "  <thead>\n",
       "    <tr style=\"text-align: right;\">\n",
       "      <th></th>\n",
       "      <th>total_fat</th>\n",
       "      <th>monounsaturated_fat</th>\n",
       "      <th>polyunsaturated_fat</th>\n",
       "      <th>saturated_fat</th>\n",
       "    </tr>\n",
       "  </thead>\n",
       "  <tbody>\n",
       "    <tr>\n",
       "      <th>11623</th>\n",
       "      <td>40.06</td>\n",
       "      <td>11.675</td>\n",
       "      <td>10.805</td>\n",
       "      <td>14.112</td>\n",
       "    </tr>\n",
       "    <tr>\n",
       "      <th>3250</th>\n",
       "      <td>131.22</td>\n",
       "      <td>44.241</td>\n",
       "      <td>38.442</td>\n",
       "      <td>37.196</td>\n",
       "    </tr>\n",
       "    <tr>\n",
       "      <th>8232</th>\n",
       "      <td>39.18</td>\n",
       "      <td>10.955</td>\n",
       "      <td>14.684</td>\n",
       "      <td>9.647</td>\n",
       "    </tr>\n",
       "    <tr>\n",
       "      <th>3373</th>\n",
       "      <td>27.19</td>\n",
       "      <td>8.335</td>\n",
       "      <td>5.625</td>\n",
       "      <td>9.402</td>\n",
       "    </tr>\n",
       "    <tr>\n",
       "      <th>8775</th>\n",
       "      <td>52.22</td>\n",
       "      <td>15.245</td>\n",
       "      <td>14.646</td>\n",
       "      <td>17.238</td>\n",
       "    </tr>\n",
       "    <tr>\n",
       "      <th>...</th>\n",
       "      <td>...</td>\n",
       "      <td>...</td>\n",
       "      <td>...</td>\n",
       "      <td>...</td>\n",
       "    </tr>\n",
       "    <tr>\n",
       "      <th>11844</th>\n",
       "      <td>61.23</td>\n",
       "      <td>21.978</td>\n",
       "      <td>15.006</td>\n",
       "      <td>17.871</td>\n",
       "    </tr>\n",
       "    <tr>\n",
       "      <th>11853</th>\n",
       "      <td>158.71</td>\n",
       "      <td>53.171</td>\n",
       "      <td>57.414</td>\n",
       "      <td>35.389</td>\n",
       "    </tr>\n",
       "    <tr>\n",
       "      <th>11859</th>\n",
       "      <td>66.88</td>\n",
       "      <td>28.907</td>\n",
       "      <td>8.111</td>\n",
       "      <td>23.160</td>\n",
       "    </tr>\n",
       "    <tr>\n",
       "      <th>11865</th>\n",
       "      <td>71.99</td>\n",
       "      <td>21.730</td>\n",
       "      <td>22.430</td>\n",
       "      <td>22.083</td>\n",
       "    </tr>\n",
       "    <tr>\n",
       "      <th>11876</th>\n",
       "      <td>63.18</td>\n",
       "      <td>22.624</td>\n",
       "      <td>9.509</td>\n",
       "      <td>25.360</td>\n",
       "    </tr>\n",
       "  </tbody>\n",
       "</table>\n",
       "<p>2424 rows × 4 columns</p>\n",
       "</div>"
      ],
      "text/plain": [
       "       total_fat  monounsaturated_fat  polyunsaturated_fat  saturated_fat\n",
       "11623      40.06               11.675               10.805         14.112\n",
       "3250      131.22               44.241               38.442         37.196\n",
       "8232       39.18               10.955               14.684          9.647\n",
       "3373       27.19                8.335                5.625          9.402\n",
       "8775       52.22               15.245               14.646         17.238\n",
       "...          ...                  ...                  ...            ...\n",
       "11844      61.23               21.978               15.006         17.871\n",
       "11853     158.71               53.171               57.414         35.389\n",
       "11859      66.88               28.907                8.111         23.160\n",
       "11865      71.99               21.730               22.430         22.083\n",
       "11876      63.18               22.624                9.509         25.360\n",
       "\n",
       "[2424 rows x 4 columns]"
      ]
     },
     "execution_count": 29,
     "metadata": {},
     "output_type": "execute_result"
    }
   ],
   "source": [
    "fat_input"
   ]
  },
  {
   "cell_type": "code",
   "execution_count": 30,
   "id": "134fb08e",
   "metadata": {},
   "outputs": [],
   "source": [
    "from sklearn.model_selection import train_test_split\n",
    "X_train, X_test, y_train, y_test = train_test_split(fat_input, fat_targets, test_size=0.2)"
   ]
  },
  {
   "cell_type": "code",
   "execution_count": 31,
   "id": "262831b2",
   "metadata": {},
   "outputs": [
    {
     "data": {
      "text/html": [
       "<div>\n",
       "<style scoped>\n",
       "    .dataframe tbody tr th:only-of-type {\n",
       "        vertical-align: middle;\n",
       "    }\n",
       "\n",
       "    .dataframe tbody tr th {\n",
       "        vertical-align: top;\n",
       "    }\n",
       "\n",
       "    .dataframe thead th {\n",
       "        text-align: right;\n",
       "    }\n",
       "</style>\n",
       "<table border=\"1\" class=\"dataframe\">\n",
       "  <thead>\n",
       "    <tr style=\"text-align: right;\">\n",
       "      <th></th>\n",
       "      <th>DIQ010</th>\n",
       "    </tr>\n",
       "  </thead>\n",
       "  <tbody>\n",
       "    <tr>\n",
       "      <th>9701</th>\n",
       "      <td>2</td>\n",
       "    </tr>\n",
       "    <tr>\n",
       "      <th>643</th>\n",
       "      <td>2</td>\n",
       "    </tr>\n",
       "    <tr>\n",
       "      <th>8107</th>\n",
       "      <td>1</td>\n",
       "    </tr>\n",
       "    <tr>\n",
       "      <th>3744</th>\n",
       "      <td>1</td>\n",
       "    </tr>\n",
       "    <tr>\n",
       "      <th>3446</th>\n",
       "      <td>1</td>\n",
       "    </tr>\n",
       "    <tr>\n",
       "      <th>...</th>\n",
       "      <td>...</td>\n",
       "    </tr>\n",
       "    <tr>\n",
       "      <th>1641</th>\n",
       "      <td>2</td>\n",
       "    </tr>\n",
       "    <tr>\n",
       "      <th>4029</th>\n",
       "      <td>1</td>\n",
       "    </tr>\n",
       "    <tr>\n",
       "      <th>11123</th>\n",
       "      <td>1</td>\n",
       "    </tr>\n",
       "    <tr>\n",
       "      <th>9801</th>\n",
       "      <td>2</td>\n",
       "    </tr>\n",
       "    <tr>\n",
       "      <th>10112</th>\n",
       "      <td>2</td>\n",
       "    </tr>\n",
       "  </tbody>\n",
       "</table>\n",
       "<p>1939 rows × 1 columns</p>\n",
       "</div>"
      ],
      "text/plain": [
       "       DIQ010\n",
       "9701        2\n",
       "643         2\n",
       "8107        1\n",
       "3744        1\n",
       "3446        1\n",
       "...       ...\n",
       "1641        2\n",
       "4029        1\n",
       "11123       1\n",
       "9801        2\n",
       "10112       2\n",
       "\n",
       "[1939 rows x 1 columns]"
      ]
     },
     "execution_count": 31,
     "metadata": {},
     "output_type": "execute_result"
    }
   ],
   "source": [
    "y_train"
   ]
  },
  {
   "cell_type": "code",
   "execution_count": 32,
   "id": "b17a5b66",
   "metadata": {},
   "outputs": [],
   "source": [
    "from sklearn.svm import SVC\n",
    "from sklearn.model_selection import cross_val_score\n"
   ]
  },
  {
   "cell_type": "code",
   "execution_count": 33,
   "id": "d923f72a",
   "metadata": {},
   "outputs": [
    {
     "name": "stderr",
     "output_type": "stream",
     "text": [
      "C:\\Users\\beali\\anaconda3\\envs\\ds\\lib\\site-packages\\sklearn\\utils\\validation.py:993: DataConversionWarning: A column-vector y was passed when a 1d array was expected. Please change the shape of y to (n_samples, ), for example using ravel().\n",
      "  y = column_or_1d(y, warn=True)\n"
     ]
    },
    {
     "data": {
      "text/plain": [
       "SVC()"
      ]
     },
     "execution_count": 33,
     "metadata": {},
     "output_type": "execute_result"
    }
   ],
   "source": [
    "svc_model = SVC()\n",
    "\n",
    "svc_model.fit(X_train,y_train)"
   ]
  },
  {
   "cell_type": "code",
   "execution_count": 34,
   "id": "57b928fc",
   "metadata": {},
   "outputs": [],
   "source": [
    "yhat = svc_model.predict(X_test)"
   ]
  },
  {
   "cell_type": "code",
   "execution_count": 35,
   "id": "c096dfa4",
   "metadata": {},
   "outputs": [],
   "source": [
    "from sklearn import metrics\n",
    "from sklearn.metrics import confusion_matrix, f1_score, classification_report, make_scorer\n",
    "from sklearn import model_selection"
   ]
  },
  {
   "cell_type": "code",
   "execution_count": 36,
   "id": "0d9c67a6",
   "metadata": {},
   "outputs": [
    {
     "name": "stdout",
     "output_type": "stream",
     "text": [
      "              precision    recall  f1-score   support\n",
      "\n",
      "           1       0.55      0.37      0.44       242\n",
      "           2       0.53      0.70      0.60       243\n",
      "\n",
      "    accuracy                           0.53       485\n",
      "   macro avg       0.54      0.53      0.52       485\n",
      "weighted avg       0.54      0.53      0.52       485\n",
      "\n"
     ]
    }
   ],
   "source": [
    "print(classification_report(y_test, yhat))"
   ]
  },
  {
   "cell_type": "code",
   "execution_count": null,
   "id": "6e35928f",
   "metadata": {},
   "outputs": [],
   "source": [
    "# next step plot the data to see if the data is linearly seperable "
   ]
  },
  {
   "cell_type": "code",
   "execution_count": 44,
   "id": "eba0071b",
   "metadata": {},
   "outputs": [
    {
     "data": {
      "image/png": "[encoded data removed]",
      "text/plain": [
       "<Figure size 640x480 with 1 Axes>"
      ]
     },
     "metadata": {},
     "output_type": "display_data"
    }
   ],
   "source": [
    "fig, ax = plt.subplots()\n",
    "\n",
    "fig.suptitle('Monounsaturated fat Histograms')\n",
    "\n",
    "ax.hist(fat_input.iloc[:1211,1], bins=50, alpha=0.5, label='Diabetics', bottom=0)\n",
    "\n",
    "ax.hist(fat_input.iloc[1212:,1], bins=50, alpha=0.5, label='Non-Diabetics', bottom=0)\n",
    "\n",
    "ax.set_xlim(0, 150)\n",
    "ax.set_xlabel('Monounsaturated Fat')\n",
    "ax.set_ylabel('Frequency')\n",
    "ax.legend()\n",
    "\n",
    "plt.show()"
   ]
  },
  {
   "cell_type": "code",
   "execution_count": 45,
   "id": "427a3c18",
   "metadata": {},
   "outputs": [
    {
     "data": {
      "image/png": "[encoded data removed]",
      "text/plain": [
       "<Figure size 640x480 with 1 Axes>"
      ]
     },
     "metadata": {},
     "output_type": "display_data"
    }
   ],
   "source": [
    "fig, ax = plt.subplots()\n",
    "\n",
    "fig.suptitle('Polyunaturated fat Histograms')\n",
    "\n",
    "\n",
    "ax.hist(fat_input.iloc[:1211,2], bins=50, alpha=0.5, label='Diabetics', bottom=0)\n",
    "\n",
    "ax.hist(fat_input.iloc[1212:,2], bins=50, alpha=0.5, label='Non-Diabetics', bottom=0)\n",
    "\n",
    "ax.set_xlim(0, 150)\n",
    "ax.set_xlabel('polyunsaturated Fat')\n",
    "ax.set_ylabel('Frequency')\n",
    "ax.legend()\n",
    "\n",
    "plt.show()"
   ]
  },
  {
   "cell_type": "code",
   "execution_count": 46,
   "id": "56ad3b6d",
   "metadata": {},
   "outputs": [
    {
     "data": {
      "image/png": "[encoded data removed]",
      "text/plain": [
       "<Figure size 640x480 with 1 Axes>"
      ]
     },
     "metadata": {},
     "output_type": "display_data"
    }
   ],
   "source": [
    "fig, ax = plt.subplots()\n",
    "\n",
    "fig.suptitle('Saturated fat Histograms')\n",
    "\n",
    "ax.hist(fat_input.iloc[:1211,3], bins=50, alpha=0.5, label='Diabetics', bottom=0)\n",
    "\n",
    "ax.hist(fat_input.iloc[1212:,3], bins=50, alpha=0.5, label='Non-Diabetics', bottom=0)\n",
    "\n",
    "ax.set_xlim(0, 150)\n",
    "ax.set_xlabel('Saturated Fat')\n",
    "ax.set_ylabel('Frequency')\n",
    "ax.legend()\n",
    "\n",
    "plt.show()"
   ]
  },
  {
   "cell_type": "code",
   "execution_count": 49,
   "id": "e961ec65",
   "metadata": {},
   "outputs": [
    {
     "name": "stdout",
     "output_type": "stream",
     "text": [
      "Fitting 5 folds for each of 6 candidates, totalling 30 fits\n"
     ]
    },
    {
     "name": "stderr",
     "output_type": "stream",
     "text": [
      "C:\\Users\\beali\\anaconda3\\envs\\ds\\lib\\site-packages\\sklearn\\utils\\validation.py:993: DataConversionWarning: A column-vector y was passed when a 1d array was expected. Please change the shape of y to (n_samples, ), for example using ravel().\n",
      "  y = column_or_1d(y, warn=True)\n"
     ]
    },
    {
     "name": "stdout",
     "output_type": "stream",
     "text": [
      "[CV] END ......................C=1000, degree=2, kernel=poly; total time=   4.4s\n"
     ]
    },
    {
     "name": "stderr",
     "output_type": "stream",
     "text": [
      "C:\\Users\\beali\\anaconda3\\envs\\ds\\lib\\site-packages\\sklearn\\utils\\validation.py:993: DataConversionWarning: A column-vector y was passed when a 1d array was expected. Please change the shape of y to (n_samples, ), for example using ravel().\n",
      "  y = column_or_1d(y, warn=True)\n"
     ]
    },
    {
     "name": "stdout",
     "output_type": "stream",
     "text": [
      "[CV] END ......................C=1000, degree=2, kernel=poly; total time=   4.1s\n"
     ]
    },
    {
     "name": "stderr",
     "output_type": "stream",
     "text": [
      "C:\\Users\\beali\\anaconda3\\envs\\ds\\lib\\site-packages\\sklearn\\utils\\validation.py:993: DataConversionWarning: A column-vector y was passed when a 1d array was expected. Please change the shape of y to (n_samples, ), for example using ravel().\n",
      "  y = column_or_1d(y, warn=True)\n"
     ]
    },
    {
     "name": "stdout",
     "output_type": "stream",
     "text": [
      "[CV] END ......................C=1000, degree=2, kernel=poly; total time=   7.5s\n"
     ]
    },
    {
     "name": "stderr",
     "output_type": "stream",
     "text": [
      "C:\\Users\\beali\\anaconda3\\envs\\ds\\lib\\site-packages\\sklearn\\utils\\validation.py:993: DataConversionWarning: A column-vector y was passed when a 1d array was expected. Please change the shape of y to (n_samples, ), for example using ravel().\n",
      "  y = column_or_1d(y, warn=True)\n"
     ]
    },
    {
     "name": "stdout",
     "output_type": "stream",
     "text": [
      "[CV] END ......................C=1000, degree=2, kernel=poly; total time=   4.8s\n"
     ]
    },
    {
     "name": "stderr",
     "output_type": "stream",
     "text": [
      "C:\\Users\\beali\\anaconda3\\envs\\ds\\lib\\site-packages\\sklearn\\utils\\validation.py:993: DataConversionWarning: A column-vector y was passed when a 1d array was expected. Please change the shape of y to (n_samples, ), for example using ravel().\n",
      "  y = column_or_1d(y, warn=True)\n"
     ]
    },
    {
     "name": "stdout",
     "output_type": "stream",
     "text": [
      "[CV] END ......................C=1000, degree=2, kernel=poly; total time=   4.3s\n"
     ]
    },
    {
     "name": "stderr",
     "output_type": "stream",
     "text": [
      "C:\\Users\\beali\\anaconda3\\envs\\ds\\lib\\site-packages\\sklearn\\utils\\validation.py:993: DataConversionWarning: A column-vector y was passed when a 1d array was expected. Please change the shape of y to (n_samples, ), for example using ravel().\n",
      "  y = column_or_1d(y, warn=True)\n"
     ]
    },
    {
     "name": "stdout",
     "output_type": "stream",
     "text": [
      "[CV] END ......................C=1000, degree=5, kernel=poly; total time=10.9min\n"
     ]
    },
    {
     "name": "stderr",
     "output_type": "stream",
     "text": [
      "C:\\Users\\beali\\anaconda3\\envs\\ds\\lib\\site-packages\\sklearn\\utils\\validation.py:993: DataConversionWarning: A column-vector y was passed when a 1d array was expected. Please change the shape of y to (n_samples, ), for example using ravel().\n",
      "  y = column_or_1d(y, warn=True)\n"
     ]
    },
    {
     "name": "stdout",
     "output_type": "stream",
     "text": [
      "[CV] END ......................C=1000, degree=5, kernel=poly; total time=13.1min\n"
     ]
    },
    {
     "name": "stderr",
     "output_type": "stream",
     "text": [
      "C:\\Users\\beali\\anaconda3\\envs\\ds\\lib\\site-packages\\sklearn\\utils\\validation.py:993: DataConversionWarning: A column-vector y was passed when a 1d array was expected. Please change the shape of y to (n_samples, ), for example using ravel().\n",
      "  y = column_or_1d(y, warn=True)\n"
     ]
    },
    {
     "name": "stdout",
     "output_type": "stream",
     "text": [
      "[CV] END ......................C=1000, degree=5, kernel=poly; total time=26.4min\n"
     ]
    },
    {
     "name": "stderr",
     "output_type": "stream",
     "text": [
      "C:\\Users\\beali\\anaconda3\\envs\\ds\\lib\\site-packages\\sklearn\\utils\\validation.py:993: DataConversionWarning: A column-vector y was passed when a 1d array was expected. Please change the shape of y to (n_samples, ), for example using ravel().\n",
      "  y = column_or_1d(y, warn=True)\n"
     ]
    },
    {
     "name": "stdout",
     "output_type": "stream",
     "text": [
      "[CV] END ......................C=1000, degree=5, kernel=poly; total time=13.1min\n"
     ]
    },
    {
     "name": "stderr",
     "output_type": "stream",
     "text": [
      "C:\\Users\\beali\\anaconda3\\envs\\ds\\lib\\site-packages\\sklearn\\utils\\validation.py:993: DataConversionWarning: A column-vector y was passed when a 1d array was expected. Please change the shape of y to (n_samples, ), for example using ravel().\n",
      "  y = column_or_1d(y, warn=True)\n"
     ]
    },
    {
     "name": "stdout",
     "output_type": "stream",
     "text": [
      "[CV] END ......................C=1000, degree=5, kernel=poly; total time=18.0min\n"
     ]
    },
    {
     "name": "stderr",
     "output_type": "stream",
     "text": [
      "C:\\Users\\beali\\anaconda3\\envs\\ds\\lib\\site-packages\\sklearn\\utils\\validation.py:993: DataConversionWarning: A column-vector y was passed when a 1d array was expected. Please change the shape of y to (n_samples, ), for example using ravel().\n",
      "  y = column_or_1d(y, warn=True)\n"
     ]
    },
    {
     "name": "stdout",
     "output_type": "stream",
     "text": [
      "[CV] END ........................C=10, degree=2, kernel=poly; total time=   0.1s\n"
     ]
    },
    {
     "name": "stderr",
     "output_type": "stream",
     "text": [
      "C:\\Users\\beali\\anaconda3\\envs\\ds\\lib\\site-packages\\sklearn\\utils\\validation.py:993: DataConversionWarning: A column-vector y was passed when a 1d array was expected. Please change the shape of y to (n_samples, ), for example using ravel().\n",
      "  y = column_or_1d(y, warn=True)\n"
     ]
    },
    {
     "name": "stdout",
     "output_type": "stream",
     "text": [
      "[CV] END ........................C=10, degree=2, kernel=poly; total time=   0.1s\n"
     ]
    },
    {
     "name": "stderr",
     "output_type": "stream",
     "text": [
      "C:\\Users\\beali\\anaconda3\\envs\\ds\\lib\\site-packages\\sklearn\\utils\\validation.py:993: DataConversionWarning: A column-vector y was passed when a 1d array was expected. Please change the shape of y to (n_samples, ), for example using ravel().\n",
      "  y = column_or_1d(y, warn=True)\n"
     ]
    },
    {
     "name": "stdout",
     "output_type": "stream",
     "text": [
      "[CV] END ........................C=10, degree=2, kernel=poly; total time=   0.1s\n"
     ]
    },
    {
     "name": "stderr",
     "output_type": "stream",
     "text": [
      "C:\\Users\\beali\\anaconda3\\envs\\ds\\lib\\site-packages\\sklearn\\utils\\validation.py:993: DataConversionWarning: A column-vector y was passed when a 1d array was expected. Please change the shape of y to (n_samples, ), for example using ravel().\n",
      "  y = column_or_1d(y, warn=True)\n"
     ]
    },
    {
     "name": "stdout",
     "output_type": "stream",
     "text": [
      "[CV] END ........................C=10, degree=2, kernel=poly; total time=   0.1s\n"
     ]
    },
    {
     "name": "stderr",
     "output_type": "stream",
     "text": [
      "C:\\Users\\beali\\anaconda3\\envs\\ds\\lib\\site-packages\\sklearn\\utils\\validation.py:993: DataConversionWarning: A column-vector y was passed when a 1d array was expected. Please change the shape of y to (n_samples, ), for example using ravel().\n",
      "  y = column_or_1d(y, warn=True)\n"
     ]
    },
    {
     "name": "stdout",
     "output_type": "stream",
     "text": [
      "[CV] END ........................C=10, degree=2, kernel=poly; total time=   0.1s\n"
     ]
    },
    {
     "name": "stderr",
     "output_type": "stream",
     "text": [
      "C:\\Users\\beali\\anaconda3\\envs\\ds\\lib\\site-packages\\sklearn\\utils\\validation.py:993: DataConversionWarning: A column-vector y was passed when a 1d array was expected. Please change the shape of y to (n_samples, ), for example using ravel().\n",
      "  y = column_or_1d(y, warn=True)\n"
     ]
    },
    {
     "name": "stdout",
     "output_type": "stream",
     "text": [
      "[CV] END ........................C=10, degree=5, kernel=poly; total time= 1.6min\n"
     ]
    },
    {
     "name": "stderr",
     "output_type": "stream",
     "text": [
      "C:\\Users\\beali\\anaconda3\\envs\\ds\\lib\\site-packages\\sklearn\\utils\\validation.py:993: DataConversionWarning: A column-vector y was passed when a 1d array was expected. Please change the shape of y to (n_samples, ), for example using ravel().\n",
      "  y = column_or_1d(y, warn=True)\n"
     ]
    },
    {
     "name": "stdout",
     "output_type": "stream",
     "text": [
      "[CV] END ........................C=10, degree=5, kernel=poly; total time=  57.0s\n"
     ]
    },
    {
     "name": "stderr",
     "output_type": "stream",
     "text": [
      "C:\\Users\\beali\\anaconda3\\envs\\ds\\lib\\site-packages\\sklearn\\utils\\validation.py:993: DataConversionWarning: A column-vector y was passed when a 1d array was expected. Please change the shape of y to (n_samples, ), for example using ravel().\n",
      "  y = column_or_1d(y, warn=True)\n"
     ]
    },
    {
     "name": "stdout",
     "output_type": "stream",
     "text": [
      "[CV] END ........................C=10, degree=5, kernel=poly; total time= 1.1min\n"
     ]
    },
    {
     "name": "stderr",
     "output_type": "stream",
     "text": [
      "C:\\Users\\beali\\anaconda3\\envs\\ds\\lib\\site-packages\\sklearn\\utils\\validation.py:993: DataConversionWarning: A column-vector y was passed when a 1d array was expected. Please change the shape of y to (n_samples, ), for example using ravel().\n",
      "  y = column_or_1d(y, warn=True)\n"
     ]
    },
    {
     "name": "stdout",
     "output_type": "stream",
     "text": [
      "[CV] END ........................C=10, degree=5, kernel=poly; total time= 1.8min\n"
     ]
    },
    {
     "name": "stderr",
     "output_type": "stream",
     "text": [
      "C:\\Users\\beali\\anaconda3\\envs\\ds\\lib\\site-packages\\sklearn\\utils\\validation.py:993: DataConversionWarning: A column-vector y was passed when a 1d array was expected. Please change the shape of y to (n_samples, ), for example using ravel().\n",
      "  y = column_or_1d(y, warn=True)\n"
     ]
    },
    {
     "name": "stdout",
     "output_type": "stream",
     "text": [
      "[CV] END ........................C=10, degree=5, kernel=poly; total time=  59.2s\n",
      "[CV] END .........................C=1, degree=2, kernel=poly; total time=   0.1s\n"
     ]
    },
    {
     "name": "stderr",
     "output_type": "stream",
     "text": [
      "C:\\Users\\beali\\anaconda3\\envs\\ds\\lib\\site-packages\\sklearn\\utils\\validation.py:993: DataConversionWarning: A column-vector y was passed when a 1d array was expected. Please change the shape of y to (n_samples, ), for example using ravel().\n",
      "  y = column_or_1d(y, warn=True)\n",
      "C:\\Users\\beali\\anaconda3\\envs\\ds\\lib\\site-packages\\sklearn\\utils\\validation.py:993: DataConversionWarning: A column-vector y was passed when a 1d array was expected. Please change the shape of y to (n_samples, ), for example using ravel().\n",
      "  y = column_or_1d(y, warn=True)\n"
     ]
    },
    {
     "name": "stdout",
     "output_type": "stream",
     "text": [
      "[CV] END .........................C=1, degree=2, kernel=poly; total time=   0.1s\n",
      "[CV] END .........................C=1, degree=2, kernel=poly; total time=   0.1s\n"
     ]
    },
    {
     "name": "stderr",
     "output_type": "stream",
     "text": [
      "C:\\Users\\beali\\anaconda3\\envs\\ds\\lib\\site-packages\\sklearn\\utils\\validation.py:993: DataConversionWarning: A column-vector y was passed when a 1d array was expected. Please change the shape of y to (n_samples, ), for example using ravel().\n",
      "  y = column_or_1d(y, warn=True)\n",
      "C:\\Users\\beali\\anaconda3\\envs\\ds\\lib\\site-packages\\sklearn\\utils\\validation.py:993: DataConversionWarning: A column-vector y was passed when a 1d array was expected. Please change the shape of y to (n_samples, ), for example using ravel().\n",
      "  y = column_or_1d(y, warn=True)\n"
     ]
    },
    {
     "name": "stdout",
     "output_type": "stream",
     "text": [
      "[CV] END .........................C=1, degree=2, kernel=poly; total time=   0.1s\n",
      "[CV] END .........................C=1, degree=2, kernel=poly; total time=   0.1s\n"
     ]
    },
    {
     "name": "stderr",
     "output_type": "stream",
     "text": [
      "C:\\Users\\beali\\anaconda3\\envs\\ds\\lib\\site-packages\\sklearn\\utils\\validation.py:993: DataConversionWarning: A column-vector y was passed when a 1d array was expected. Please change the shape of y to (n_samples, ), for example using ravel().\n",
      "  y = column_or_1d(y, warn=True)\n",
      "C:\\Users\\beali\\anaconda3\\envs\\ds\\lib\\site-packages\\sklearn\\utils\\validation.py:993: DataConversionWarning: A column-vector y was passed when a 1d array was expected. Please change the shape of y to (n_samples, ), for example using ravel().\n",
      "  y = column_or_1d(y, warn=True)\n"
     ]
    },
    {
     "name": "stdout",
     "output_type": "stream",
     "text": [
      "[CV] END .........................C=1, degree=5, kernel=poly; total time=   5.7s\n"
     ]
    },
    {
     "name": "stderr",
     "output_type": "stream",
     "text": [
      "C:\\Users\\beali\\anaconda3\\envs\\ds\\lib\\site-packages\\sklearn\\utils\\validation.py:993: DataConversionWarning: A column-vector y was passed when a 1d array was expected. Please change the shape of y to (n_samples, ), for example using ravel().\n",
      "  y = column_or_1d(y, warn=True)\n"
     ]
    },
    {
     "name": "stdout",
     "output_type": "stream",
     "text": [
      "[CV] END .........................C=1, degree=5, kernel=poly; total time=  11.9s\n"
     ]
    },
    {
     "name": "stderr",
     "output_type": "stream",
     "text": [
      "C:\\Users\\beali\\anaconda3\\envs\\ds\\lib\\site-packages\\sklearn\\utils\\validation.py:993: DataConversionWarning: A column-vector y was passed when a 1d array was expected. Please change the shape of y to (n_samples, ), for example using ravel().\n",
      "  y = column_or_1d(y, warn=True)\n"
     ]
    },
    {
     "name": "stdout",
     "output_type": "stream",
     "text": [
      "[CV] END .........................C=1, degree=5, kernel=poly; total time=  11.8s\n"
     ]
    },
    {
     "name": "stderr",
     "output_type": "stream",
     "text": [
      "C:\\Users\\beali\\anaconda3\\envs\\ds\\lib\\site-packages\\sklearn\\utils\\validation.py:993: DataConversionWarning: A column-vector y was passed when a 1d array was expected. Please change the shape of y to (n_samples, ), for example using ravel().\n",
      "  y = column_or_1d(y, warn=True)\n"
     ]
    },
    {
     "name": "stdout",
     "output_type": "stream",
     "text": [
      "[CV] END .........................C=1, degree=5, kernel=poly; total time=   6.5s\n"
     ]
    },
    {
     "name": "stderr",
     "output_type": "stream",
     "text": [
      "C:\\Users\\beali\\anaconda3\\envs\\ds\\lib\\site-packages\\sklearn\\utils\\validation.py:993: DataConversionWarning: A column-vector y was passed when a 1d array was expected. Please change the shape of y to (n_samples, ), for example using ravel().\n",
      "  y = column_or_1d(y, warn=True)\n"
     ]
    },
    {
     "name": "stdout",
     "output_type": "stream",
     "text": [
      "[CV] END .........................C=1, degree=5, kernel=poly; total time=   4.9s\n"
     ]
    },
    {
     "name": "stderr",
     "output_type": "stream",
     "text": [
      "C:\\Users\\beali\\anaconda3\\envs\\ds\\lib\\site-packages\\sklearn\\utils\\validation.py:993: DataConversionWarning: A column-vector y was passed when a 1d array was expected. Please change the shape of y to (n_samples, ), for example using ravel().\n",
      "  y = column_or_1d(y, warn=True)\n"
     ]
    },
    {
     "name": "stdout",
     "output_type": "stream",
     "text": [
      "Best parameters: {'C': 1000, 'degree': 2, 'kernel': 'poly'}\n",
      "Best score: 0.5288659793814433\n"
     ]
    }
   ],
   "source": [
    "from sklearn import svm\n",
    "from sklearn.model_selection import GridSearchCV\n",
    "\n",
    "# running grid search on best set of hyperparameters\n",
    "\n",
    "param_grid = {\n",
    "    'C': [1000, 10, 1],            \n",
    "    'kernel': ['poly'], \n",
    "    'degree': [2, 5]            \n",
    "}\n",
    "svc = svm.SVC()\n",
    "\n",
    "grid_search = GridSearchCV(svc, param_grid, cv=5, scoring='accuracy', verbose=2)\n",
    "\n",
    "grid_search.fit(fat_input, fat_targets)\n",
    "\n",
    "print(\"Best parameters:\", grid_search.best_params_)\n",
    "print(\"Best score:\", grid_search.best_score_)\n"
   ]
  },
  {
   "cell_type": "code",
   "execution_count": 51,
   "id": "25119881",
   "metadata": {},
   "outputs": [
    {
     "data": {
      "text/plain": [
       "SVC(C=1000, degree=2, kernel='poly')"
      ]
     },
     "execution_count": 51,
     "metadata": {},
     "output_type": "execute_result"
    }
   ],
   "source": [
    "grid_search.best_estimator_"
   ]
  },
  {
   "cell_type": "code",
   "execution_count": 5,
   "id": "b947f4c7",
   "metadata": {},
   "outputs": [],
   "source": [
    "results_df = pd.read_csv('diabetes_svm_gridsearch.csv')"
   ]
  },
  {
   "cell_type": "code",
   "execution_count": 7,
   "id": "5a12a481",
   "metadata": {},
   "outputs": [
    {
     "data": {
      "image/png": "[encoded data removed]",
      "text/plain": [
       "<Figure size 640x480 with 1 Axes>"
      ]
     },
     "metadata": {},
     "output_type": "display_data"
    }
   ],
   "source": [
    "for kernel in ['poly', 'rbf']:\n",
    "    subset = results_df[results_df['param_kernel'] == kernel]\n",
    "    for degree in subset['param_degree'].unique():\n",
    "        if kernel == 'poly':\n",
    "            degree_subset = subset[subset['param_degree'] == degree]\n",
    "            plt.plot(degree_subset['param_C'], degree_subset['mean_test_score'], label=f'Poly degree {degree}')\n",
    "        else:\n",
    "            plt.plot(subset['param_C'], subset['mean_test_score'], label=f'RBF', marker='o')\n",
    "\n",
    "plt.xlabel('C value')\n",
    "plt.ylabel('Mean Test Score')\n",
    "plt.xscale('log')\n",
    "plt.title('Performance of SVM with Different Kernels')\n",
    "plt.legend()\n",
    "plt.savefig('Performance of SVM.png')"
   ]
  }
 ],
 "metadata": {
  "kernelspec": {
   "display_name": "Python 3 (ipykernel)",
   "language": "python",
   "name": "python3"
  },
  "language_info": {
   "codemirror_mode": {
    "name": "ipython",
    "version": 3
   },
   "file_extension": ".py",
   "mimetype": "text/x-python",
   "name": "python",
   "nbconvert_exporter": "python",
   "pygments_lexer": "ipython3",
   "version": "3.8.15"
  }
 },
 "nbformat": 4,
 "nbformat_minor": 5
}
